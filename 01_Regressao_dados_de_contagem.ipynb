{
  "nbformat": 4,
  "nbformat_minor": 0,
  "metadata": {
    "colab": {
      "provenance": [],
      "authorship_tag": "ABX9TyO/X6eP6n1JgMEOhYelqHUg",
      "include_colab_link": true
    },
    "kernelspec": {
      "name": "python3",
      "display_name": "Python 3"
    },
    "language_info": {
      "name": "python"
    }
  },
  "cells": [
    {
      "cell_type": "markdown",
      "metadata": {
        "id": "view-in-github",
        "colab_type": "text"
      },
      "source": [
        "<a href=\"https://colab.research.google.com/github/FranziskoB/Regressao_dados_contagem/blob/main/01_Regressao_dados_de_contagem.ipynb\" target=\"_parent\"><img src=\"https://colab.research.google.com/assets/colab-badge.svg\" alt=\"Open In Colab\"/></a>"
      ]
    },
    {
      "cell_type": "markdown",
      "source": [
        "# REGRESSÃO PARA MODELOS DE CONTAGEM"
      ],
      "metadata": {
        "id": "2U9y9tABPhDF"
      }
    },
    {
      "cell_type": "markdown",
      "source": [
        "Exemplo de construção de modelo de regressão em um dataset com dados de contagem. "
      ],
      "metadata": {
        "id": "esmf3xj0P4T8"
      }
    },
    {
      "cell_type": "markdown",
      "source": [
        "## Importando as bibliotecas"
      ],
      "metadata": {
        "id": "v1Khwe7-PvUF"
      }
    },
    {
      "cell_type": "code",
      "execution_count": 1,
      "metadata": {
        "id": "dxemszxC76kg"
      },
      "outputs": [],
      "source": [
        "import pandas as pd # manipulação de dado em formato de dataframe\n",
        "import seaborn as sns # biblioteca de visualização de informações estatísticas\n",
        "import matplotlib.pyplot as plt # biblioteca de visualização de dados\n",
        "import statsmodels.api as sm # biblioteca de modelagem estatística\n",
        "import numpy as np # biblioteca para operações matemáticas multidimensionais\n",
        "from scipy import stats\n",
        "from statsmodels.iolib.summary2 import summary_col\n",
        "import plotly.graph_objs as go\n",
        "import statsmodels.formula.api as smf\n",
        "\n",
        "import warnings\n",
        "warnings.filterwarnings('ignore')"
      ]
    },
    {
      "cell_type": "markdown",
      "source": [
        "##Importação dos dados"
      ],
      "metadata": {
        "id": "JuMtiIr_TJva"
      }
    },
    {
      "cell_type": "code",
      "source": [
        "df_corruption=pd.read_csv('https://raw.githubusercontent.com/FranziskoB/Regressao_dados_contagem/main/corruption.csv')"
      ],
      "metadata": {
        "id": "3rkipje4TOTB"
      },
      "execution_count": 2,
      "outputs": []
    },
    {
      "cell_type": "code",
      "source": [
        "df_corruption.head()"
      ],
      "metadata": {
        "colab": {
          "base_uri": "https://localhost:8080/",
          "height": 206
        },
        "id": "xTy-Zo2YTZ8Y",
        "outputId": "5a974faa-f6ee-4fc1-f76b-34e751e0984d"
      },
      "execution_count": 3,
      "outputs": [
        {
          "output_type": "execute_result",
          "data": {
            "text/plain": [
              "                country code  violations  staff post  corruption\n",
              "0                Angola  AGO          50      9   no    1.047506\n",
              "1                Angola  AGO           1      9  yes    1.047506\n",
              "2               Albania  ALB          17      3   no    0.921079\n",
              "3               Albania  ALB           0      3  yes    0.921079\n",
              "4  United Arab Emirates  ARE           0      3   no   -0.779468"
            ],
            "text/html": [
              "\n",
              "  <div id=\"df-457eea2b-cc9b-495a-ade1-09a0727be049\">\n",
              "    <div class=\"colab-df-container\">\n",
              "      <div>\n",
              "<style scoped>\n",
              "    .dataframe tbody tr th:only-of-type {\n",
              "        vertical-align: middle;\n",
              "    }\n",
              "\n",
              "    .dataframe tbody tr th {\n",
              "        vertical-align: top;\n",
              "    }\n",
              "\n",
              "    .dataframe thead th {\n",
              "        text-align: right;\n",
              "    }\n",
              "</style>\n",
              "<table border=\"1\" class=\"dataframe\">\n",
              "  <thead>\n",
              "    <tr style=\"text-align: right;\">\n",
              "      <th></th>\n",
              "      <th>country</th>\n",
              "      <th>code</th>\n",
              "      <th>violations</th>\n",
              "      <th>staff</th>\n",
              "      <th>post</th>\n",
              "      <th>corruption</th>\n",
              "    </tr>\n",
              "  </thead>\n",
              "  <tbody>\n",
              "    <tr>\n",
              "      <th>0</th>\n",
              "      <td>Angola</td>\n",
              "      <td>AGO</td>\n",
              "      <td>50</td>\n",
              "      <td>9</td>\n",
              "      <td>no</td>\n",
              "      <td>1.047506</td>\n",
              "    </tr>\n",
              "    <tr>\n",
              "      <th>1</th>\n",
              "      <td>Angola</td>\n",
              "      <td>AGO</td>\n",
              "      <td>1</td>\n",
              "      <td>9</td>\n",
              "      <td>yes</td>\n",
              "      <td>1.047506</td>\n",
              "    </tr>\n",
              "    <tr>\n",
              "      <th>2</th>\n",
              "      <td>Albania</td>\n",
              "      <td>ALB</td>\n",
              "      <td>17</td>\n",
              "      <td>3</td>\n",
              "      <td>no</td>\n",
              "      <td>0.921079</td>\n",
              "    </tr>\n",
              "    <tr>\n",
              "      <th>3</th>\n",
              "      <td>Albania</td>\n",
              "      <td>ALB</td>\n",
              "      <td>0</td>\n",
              "      <td>3</td>\n",
              "      <td>yes</td>\n",
              "      <td>0.921079</td>\n",
              "    </tr>\n",
              "    <tr>\n",
              "      <th>4</th>\n",
              "      <td>United Arab Emirates</td>\n",
              "      <td>ARE</td>\n",
              "      <td>0</td>\n",
              "      <td>3</td>\n",
              "      <td>no</td>\n",
              "      <td>-0.779468</td>\n",
              "    </tr>\n",
              "  </tbody>\n",
              "</table>\n",
              "</div>\n",
              "      <button class=\"colab-df-convert\" onclick=\"convertToInteractive('df-457eea2b-cc9b-495a-ade1-09a0727be049')\"\n",
              "              title=\"Convert this dataframe to an interactive table.\"\n",
              "              style=\"display:none;\">\n",
              "        \n",
              "  <svg xmlns=\"http://www.w3.org/2000/svg\" height=\"24px\"viewBox=\"0 0 24 24\"\n",
              "       width=\"24px\">\n",
              "    <path d=\"M0 0h24v24H0V0z\" fill=\"none\"/>\n",
              "    <path d=\"M18.56 5.44l.94 2.06.94-2.06 2.06-.94-2.06-.94-.94-2.06-.94 2.06-2.06.94zm-11 1L8.5 8.5l.94-2.06 2.06-.94-2.06-.94L8.5 2.5l-.94 2.06-2.06.94zm10 10l.94 2.06.94-2.06 2.06-.94-2.06-.94-.94-2.06-.94 2.06-2.06.94z\"/><path d=\"M17.41 7.96l-1.37-1.37c-.4-.4-.92-.59-1.43-.59-.52 0-1.04.2-1.43.59L10.3 9.45l-7.72 7.72c-.78.78-.78 2.05 0 2.83L4 21.41c.39.39.9.59 1.41.59.51 0 1.02-.2 1.41-.59l7.78-7.78 2.81-2.81c.8-.78.8-2.07 0-2.86zM5.41 20L4 18.59l7.72-7.72 1.47 1.35L5.41 20z\"/>\n",
              "  </svg>\n",
              "      </button>\n",
              "      \n",
              "  <style>\n",
              "    .colab-df-container {\n",
              "      display:flex;\n",
              "      flex-wrap:wrap;\n",
              "      gap: 12px;\n",
              "    }\n",
              "\n",
              "    .colab-df-convert {\n",
              "      background-color: #E8F0FE;\n",
              "      border: none;\n",
              "      border-radius: 50%;\n",
              "      cursor: pointer;\n",
              "      display: none;\n",
              "      fill: #1967D2;\n",
              "      height: 32px;\n",
              "      padding: 0 0 0 0;\n",
              "      width: 32px;\n",
              "    }\n",
              "\n",
              "    .colab-df-convert:hover {\n",
              "      background-color: #E2EBFA;\n",
              "      box-shadow: 0px 1px 2px rgba(60, 64, 67, 0.3), 0px 1px 3px 1px rgba(60, 64, 67, 0.15);\n",
              "      fill: #174EA6;\n",
              "    }\n",
              "\n",
              "    [theme=dark] .colab-df-convert {\n",
              "      background-color: #3B4455;\n",
              "      fill: #D2E3FC;\n",
              "    }\n",
              "\n",
              "    [theme=dark] .colab-df-convert:hover {\n",
              "      background-color: #434B5C;\n",
              "      box-shadow: 0px 1px 3px 1px rgba(0, 0, 0, 0.15);\n",
              "      filter: drop-shadow(0px 1px 2px rgba(0, 0, 0, 0.3));\n",
              "      fill: #FFFFFF;\n",
              "    }\n",
              "  </style>\n",
              "\n",
              "      <script>\n",
              "        const buttonEl =\n",
              "          document.querySelector('#df-457eea2b-cc9b-495a-ade1-09a0727be049 button.colab-df-convert');\n",
              "        buttonEl.style.display =\n",
              "          google.colab.kernel.accessAllowed ? 'block' : 'none';\n",
              "\n",
              "        async function convertToInteractive(key) {\n",
              "          const element = document.querySelector('#df-457eea2b-cc9b-495a-ade1-09a0727be049');\n",
              "          const dataTable =\n",
              "            await google.colab.kernel.invokeFunction('convertToInteractive',\n",
              "                                                     [key], {});\n",
              "          if (!dataTable) return;\n",
              "\n",
              "          const docLinkHtml = 'Like what you see? Visit the ' +\n",
              "            '<a target=\"_blank\" href=https://colab.research.google.com/notebooks/data_table.ipynb>data table notebook</a>'\n",
              "            + ' to learn more about interactive tables.';\n",
              "          element.innerHTML = '';\n",
              "          dataTable['output_type'] = 'display_data';\n",
              "          await google.colab.output.renderOutput(dataTable, element);\n",
              "          const docLink = document.createElement('div');\n",
              "          docLink.innerHTML = docLinkHtml;\n",
              "          element.appendChild(docLink);\n",
              "        }\n",
              "      </script>\n",
              "    </div>\n",
              "  </div>\n",
              "  "
            ]
          },
          "metadata": {},
          "execution_count": 3
        }
      ]
    },
    {
      "cell_type": "code",
      "source": [
        "df_corruption.info()"
      ],
      "metadata": {
        "colab": {
          "base_uri": "https://localhost:8080/"
        },
        "id": "SayOsMjlTfb2",
        "outputId": "f3b3d647-6beb-47d2-a700-febb5265bcaa"
      },
      "execution_count": 4,
      "outputs": [
        {
          "output_type": "stream",
          "name": "stdout",
          "text": [
            "<class 'pandas.core.frame.DataFrame'>\n",
            "RangeIndex: 298 entries, 0 to 297\n",
            "Data columns (total 6 columns):\n",
            " #   Column      Non-Null Count  Dtype  \n",
            "---  ------      --------------  -----  \n",
            " 0   country     298 non-null    object \n",
            " 1   code        298 non-null    object \n",
            " 2   violations  298 non-null    int64  \n",
            " 3   staff       298 non-null    int64  \n",
            " 4   post        298 non-null    object \n",
            " 5   corruption  298 non-null    float64\n",
            "dtypes: float64(1), int64(2), object(3)\n",
            "memory usage: 14.1+ KB\n"
          ]
        }
      ]
    },
    {
      "cell_type": "code",
      "source": [
        "df_corruption.describe()"
      ],
      "metadata": {
        "colab": {
          "base_uri": "https://localhost:8080/",
          "height": 300
        },
        "id": "W5iWnJ6UToKH",
        "outputId": "56abc2e5-7d14-4501-ba0d-83966548f85b"
      },
      "execution_count": 5,
      "outputs": [
        {
          "output_type": "execute_result",
          "data": {
            "text/plain": [
              "       violations       staff  corruption\n",
              "count  298.000000  298.000000  298.000000\n",
              "mean     6.496644   11.805369    0.013641\n",
              "std     18.210377   11.079558    1.012474\n",
              "min      0.000000    2.000000   -2.582988\n",
              "25%      0.000000    6.000000   -0.415147\n",
              "50%      0.000000    9.000000    0.326959\n",
              "75%      3.000000   14.000000    0.720250\n",
              "max    167.000000   86.000000    1.582807"
            ],
            "text/html": [
              "\n",
              "  <div id=\"df-06b920e7-c4d2-4834-a6e1-6f98bd0d8b11\">\n",
              "    <div class=\"colab-df-container\">\n",
              "      <div>\n",
              "<style scoped>\n",
              "    .dataframe tbody tr th:only-of-type {\n",
              "        vertical-align: middle;\n",
              "    }\n",
              "\n",
              "    .dataframe tbody tr th {\n",
              "        vertical-align: top;\n",
              "    }\n",
              "\n",
              "    .dataframe thead th {\n",
              "        text-align: right;\n",
              "    }\n",
              "</style>\n",
              "<table border=\"1\" class=\"dataframe\">\n",
              "  <thead>\n",
              "    <tr style=\"text-align: right;\">\n",
              "      <th></th>\n",
              "      <th>violations</th>\n",
              "      <th>staff</th>\n",
              "      <th>corruption</th>\n",
              "    </tr>\n",
              "  </thead>\n",
              "  <tbody>\n",
              "    <tr>\n",
              "      <th>count</th>\n",
              "      <td>298.000000</td>\n",
              "      <td>298.000000</td>\n",
              "      <td>298.000000</td>\n",
              "    </tr>\n",
              "    <tr>\n",
              "      <th>mean</th>\n",
              "      <td>6.496644</td>\n",
              "      <td>11.805369</td>\n",
              "      <td>0.013641</td>\n",
              "    </tr>\n",
              "    <tr>\n",
              "      <th>std</th>\n",
              "      <td>18.210377</td>\n",
              "      <td>11.079558</td>\n",
              "      <td>1.012474</td>\n",
              "    </tr>\n",
              "    <tr>\n",
              "      <th>min</th>\n",
              "      <td>0.000000</td>\n",
              "      <td>2.000000</td>\n",
              "      <td>-2.582988</td>\n",
              "    </tr>\n",
              "    <tr>\n",
              "      <th>25%</th>\n",
              "      <td>0.000000</td>\n",
              "      <td>6.000000</td>\n",
              "      <td>-0.415147</td>\n",
              "    </tr>\n",
              "    <tr>\n",
              "      <th>50%</th>\n",
              "      <td>0.000000</td>\n",
              "      <td>9.000000</td>\n",
              "      <td>0.326959</td>\n",
              "    </tr>\n",
              "    <tr>\n",
              "      <th>75%</th>\n",
              "      <td>3.000000</td>\n",
              "      <td>14.000000</td>\n",
              "      <td>0.720250</td>\n",
              "    </tr>\n",
              "    <tr>\n",
              "      <th>max</th>\n",
              "      <td>167.000000</td>\n",
              "      <td>86.000000</td>\n",
              "      <td>1.582807</td>\n",
              "    </tr>\n",
              "  </tbody>\n",
              "</table>\n",
              "</div>\n",
              "      <button class=\"colab-df-convert\" onclick=\"convertToInteractive('df-06b920e7-c4d2-4834-a6e1-6f98bd0d8b11')\"\n",
              "              title=\"Convert this dataframe to an interactive table.\"\n",
              "              style=\"display:none;\">\n",
              "        \n",
              "  <svg xmlns=\"http://www.w3.org/2000/svg\" height=\"24px\"viewBox=\"0 0 24 24\"\n",
              "       width=\"24px\">\n",
              "    <path d=\"M0 0h24v24H0V0z\" fill=\"none\"/>\n",
              "    <path d=\"M18.56 5.44l.94 2.06.94-2.06 2.06-.94-2.06-.94-.94-2.06-.94 2.06-2.06.94zm-11 1L8.5 8.5l.94-2.06 2.06-.94-2.06-.94L8.5 2.5l-.94 2.06-2.06.94zm10 10l.94 2.06.94-2.06 2.06-.94-2.06-.94-.94-2.06-.94 2.06-2.06.94z\"/><path d=\"M17.41 7.96l-1.37-1.37c-.4-.4-.92-.59-1.43-.59-.52 0-1.04.2-1.43.59L10.3 9.45l-7.72 7.72c-.78.78-.78 2.05 0 2.83L4 21.41c.39.39.9.59 1.41.59.51 0 1.02-.2 1.41-.59l7.78-7.78 2.81-2.81c.8-.78.8-2.07 0-2.86zM5.41 20L4 18.59l7.72-7.72 1.47 1.35L5.41 20z\"/>\n",
              "  </svg>\n",
              "      </button>\n",
              "      \n",
              "  <style>\n",
              "    .colab-df-container {\n",
              "      display:flex;\n",
              "      flex-wrap:wrap;\n",
              "      gap: 12px;\n",
              "    }\n",
              "\n",
              "    .colab-df-convert {\n",
              "      background-color: #E8F0FE;\n",
              "      border: none;\n",
              "      border-radius: 50%;\n",
              "      cursor: pointer;\n",
              "      display: none;\n",
              "      fill: #1967D2;\n",
              "      height: 32px;\n",
              "      padding: 0 0 0 0;\n",
              "      width: 32px;\n",
              "    }\n",
              "\n",
              "    .colab-df-convert:hover {\n",
              "      background-color: #E2EBFA;\n",
              "      box-shadow: 0px 1px 2px rgba(60, 64, 67, 0.3), 0px 1px 3px 1px rgba(60, 64, 67, 0.15);\n",
              "      fill: #174EA6;\n",
              "    }\n",
              "\n",
              "    [theme=dark] .colab-df-convert {\n",
              "      background-color: #3B4455;\n",
              "      fill: #D2E3FC;\n",
              "    }\n",
              "\n",
              "    [theme=dark] .colab-df-convert:hover {\n",
              "      background-color: #434B5C;\n",
              "      box-shadow: 0px 1px 3px 1px rgba(0, 0, 0, 0.15);\n",
              "      filter: drop-shadow(0px 1px 2px rgba(0, 0, 0, 0.3));\n",
              "      fill: #FFFFFF;\n",
              "    }\n",
              "  </style>\n",
              "\n",
              "      <script>\n",
              "        const buttonEl =\n",
              "          document.querySelector('#df-06b920e7-c4d2-4834-a6e1-6f98bd0d8b11 button.colab-df-convert');\n",
              "        buttonEl.style.display =\n",
              "          google.colab.kernel.accessAllowed ? 'block' : 'none';\n",
              "\n",
              "        async function convertToInteractive(key) {\n",
              "          const element = document.querySelector('#df-06b920e7-c4d2-4834-a6e1-6f98bd0d8b11');\n",
              "          const dataTable =\n",
              "            await google.colab.kernel.invokeFunction('convertToInteractive',\n",
              "                                                     [key], {});\n",
              "          if (!dataTable) return;\n",
              "\n",
              "          const docLinkHtml = 'Like what you see? Visit the ' +\n",
              "            '<a target=\"_blank\" href=https://colab.research.google.com/notebooks/data_table.ipynb>data table notebook</a>'\n",
              "            + ' to learn more about interactive tables.';\n",
              "          element.innerHTML = '';\n",
              "          dataTable['output_type'] = 'display_data';\n",
              "          await google.colab.output.renderOutput(dataTable, element);\n",
              "          const docLink = document.createElement('div');\n",
              "          docLink.innerHTML = docLinkHtml;\n",
              "          element.appendChild(docLink);\n",
              "        }\n",
              "      </script>\n",
              "    </div>\n",
              "  </div>\n",
              "  "
            ]
          },
          "metadata": {},
          "execution_count": 5
        }
      ]
    },
    {
      "cell_type": "code",
      "source": [
        "import plotly.express as px\n",
        "\n",
        "fig = px.histogram(df_corruption, x=\"violations\")\n",
        "fig.update_layout(\n",
        "    title_text='Histograma da quantidade de violações', # title of plot\n",
        "    xaxis_title_text='Violações', # xaxis label\n",
        "    yaxis_title_text='Contagem', # yaxis label\n",
        "    bargap=0.2, # gap between bars of adjacent location coordinates\n",
        "    bargroupgap=0.1 # gap between bars of the same location coordinates\n",
        ")\n",
        "\n",
        "fig.show()"
      ],
      "metadata": {
        "colab": {
          "base_uri": "https://localhost:8080/",
          "height": 542
        },
        "id": "rc2MFCaeX0ZB",
        "outputId": "bfec4803-61d2-4335-fa29-c3a0b28c3782"
      },
      "execution_count": 6,
      "outputs": [
        {
          "output_type": "display_data",
          "data": {
            "text/html": [
              "<html>\n",
              "<head><meta charset=\"utf-8\" /></head>\n",
              "<body>\n",
              "    <div>            <script src=\"https://cdnjs.cloudflare.com/ajax/libs/mathjax/2.7.5/MathJax.js?config=TeX-AMS-MML_SVG\"></script><script type=\"text/javascript\">if (window.MathJax && window.MathJax.Hub && window.MathJax.Hub.Config) {window.MathJax.Hub.Config({SVG: {font: \"STIX-Web\"}});}</script>                <script type=\"text/javascript\">window.PlotlyConfig = {MathJaxConfig: 'local'};</script>\n",
              "        <script src=\"https://cdn.plot.ly/plotly-2.18.2.min.js\"></script>                <div id=\"a772a7b6-6392-42e8-bae7-f05fe126f7e0\" class=\"plotly-graph-div\" style=\"height:525px; width:100%;\"></div>            <script type=\"text/javascript\">                                    window.PLOTLYENV=window.PLOTLYENV || {};                                    if (document.getElementById(\"a772a7b6-6392-42e8-bae7-f05fe126f7e0\")) {                    Plotly.newPlot(                        \"a772a7b6-6392-42e8-bae7-f05fe126f7e0\",                        [{\"alignmentgroup\":\"True\",\"bingroup\":\"x\",\"hovertemplate\":\"violations=%{x}<br>count=%{y}<extra></extra>\",\"legendgroup\":\"\",\"marker\":{\"color\":\"#636efa\",\"pattern\":{\"shape\":\"\"}},\"name\":\"\",\"offsetgroup\":\"\",\"orientation\":\"v\",\"showlegend\":false,\"x\":[50,1,17,0,0,0,5,0,3,0,0,0,3,1,0,0,8,0,3,0,27,3,0,0,18,0,48,1,18,0,14,0,1,0,2,0,67,1,6,0,10,0,0,0,0,0,0,0,16,0,44,0,45,0,24,2,3,0,0,0,2,1,13,0,2,0,9,0,3,0,1,0,0,0,0,0,22,1,0,0,167,1,0,0,13,1,2,0,40,0,0,0,3,0,12,0,1,0,0,0,5,0,8,0,7,1,1,0,12,0,0,0,0,0,1,0,2,0,4,0,2,0,2,0,61,1,7,1,0,0,21,0,0,0,16,1,0,0,2,0,0,0,13,0,9,0,2,0,3,0,1,0,150,0,4,0,0,0,5,0,5,0,6,0,8,0,1,0,0,0,69,0,0,0,5,0,5,0,1,0,13,0,3,0,37,0,4,0,6,0,5,0,1,0,3,0,4,1,99,1,3,0,0,0,0,0,7,0,0,0,0,0,61,1,0,0,2,0,16,0,1,0,2,0,9,1,5,0,2,0,12,0,3,0,27,0,56,0,59,0,1,0,7,0,1,0,5,0,3,0,0,0,2,0,43,1,17,0,3,0,21,1,1,0,2,0,1,0,12,0,0,0,4,0,2,0,12,1,3,0,3,0,10,0,10,0,5,0,15,0,44,1,3,0,37,0,43,1],\"xaxis\":\"x\",\"yaxis\":\"y\",\"type\":\"histogram\"}],                        {\"template\":{\"data\":{\"histogram2dcontour\":[{\"type\":\"histogram2dcontour\",\"colorbar\":{\"outlinewidth\":0,\"ticks\":\"\"},\"colorscale\":[[0.0,\"#0d0887\"],[0.1111111111111111,\"#46039f\"],[0.2222222222222222,\"#7201a8\"],[0.3333333333333333,\"#9c179e\"],[0.4444444444444444,\"#bd3786\"],[0.5555555555555556,\"#d8576b\"],[0.6666666666666666,\"#ed7953\"],[0.7777777777777778,\"#fb9f3a\"],[0.8888888888888888,\"#fdca26\"],[1.0,\"#f0f921\"]]}],\"choropleth\":[{\"type\":\"choropleth\",\"colorbar\":{\"outlinewidth\":0,\"ticks\":\"\"}}],\"histogram2d\":[{\"type\":\"histogram2d\",\"colorbar\":{\"outlinewidth\":0,\"ticks\":\"\"},\"colorscale\":[[0.0,\"#0d0887\"],[0.1111111111111111,\"#46039f\"],[0.2222222222222222,\"#7201a8\"],[0.3333333333333333,\"#9c179e\"],[0.4444444444444444,\"#bd3786\"],[0.5555555555555556,\"#d8576b\"],[0.6666666666666666,\"#ed7953\"],[0.7777777777777778,\"#fb9f3a\"],[0.8888888888888888,\"#fdca26\"],[1.0,\"#f0f921\"]]}],\"heatmap\":[{\"type\":\"heatmap\",\"colorbar\":{\"outlinewidth\":0,\"ticks\":\"\"},\"colorscale\":[[0.0,\"#0d0887\"],[0.1111111111111111,\"#46039f\"],[0.2222222222222222,\"#7201a8\"],[0.3333333333333333,\"#9c179e\"],[0.4444444444444444,\"#bd3786\"],[0.5555555555555556,\"#d8576b\"],[0.6666666666666666,\"#ed7953\"],[0.7777777777777778,\"#fb9f3a\"],[0.8888888888888888,\"#fdca26\"],[1.0,\"#f0f921\"]]}],\"heatmapgl\":[{\"type\":\"heatmapgl\",\"colorbar\":{\"outlinewidth\":0,\"ticks\":\"\"},\"colorscale\":[[0.0,\"#0d0887\"],[0.1111111111111111,\"#46039f\"],[0.2222222222222222,\"#7201a8\"],[0.3333333333333333,\"#9c179e\"],[0.4444444444444444,\"#bd3786\"],[0.5555555555555556,\"#d8576b\"],[0.6666666666666666,\"#ed7953\"],[0.7777777777777778,\"#fb9f3a\"],[0.8888888888888888,\"#fdca26\"],[1.0,\"#f0f921\"]]}],\"contourcarpet\":[{\"type\":\"contourcarpet\",\"colorbar\":{\"outlinewidth\":0,\"ticks\":\"\"}}],\"contour\":[{\"type\":\"contour\",\"colorbar\":{\"outlinewidth\":0,\"ticks\":\"\"},\"colorscale\":[[0.0,\"#0d0887\"],[0.1111111111111111,\"#46039f\"],[0.2222222222222222,\"#7201a8\"],[0.3333333333333333,\"#9c179e\"],[0.4444444444444444,\"#bd3786\"],[0.5555555555555556,\"#d8576b\"],[0.6666666666666666,\"#ed7953\"],[0.7777777777777778,\"#fb9f3a\"],[0.8888888888888888,\"#fdca26\"],[1.0,\"#f0f921\"]]}],\"surface\":[{\"type\":\"surface\",\"colorbar\":{\"outlinewidth\":0,\"ticks\":\"\"},\"colorscale\":[[0.0,\"#0d0887\"],[0.1111111111111111,\"#46039f\"],[0.2222222222222222,\"#7201a8\"],[0.3333333333333333,\"#9c179e\"],[0.4444444444444444,\"#bd3786\"],[0.5555555555555556,\"#d8576b\"],[0.6666666666666666,\"#ed7953\"],[0.7777777777777778,\"#fb9f3a\"],[0.8888888888888888,\"#fdca26\"],[1.0,\"#f0f921\"]]}],\"mesh3d\":[{\"type\":\"mesh3d\",\"colorbar\":{\"outlinewidth\":0,\"ticks\":\"\"}}],\"scatter\":[{\"fillpattern\":{\"fillmode\":\"overlay\",\"size\":10,\"solidity\":0.2},\"type\":\"scatter\"}],\"parcoords\":[{\"type\":\"parcoords\",\"line\":{\"colorbar\":{\"outlinewidth\":0,\"ticks\":\"\"}}}],\"scatterpolargl\":[{\"type\":\"scatterpolargl\",\"marker\":{\"colorbar\":{\"outlinewidth\":0,\"ticks\":\"\"}}}],\"bar\":[{\"error_x\":{\"color\":\"#2a3f5f\"},\"error_y\":{\"color\":\"#2a3f5f\"},\"marker\":{\"line\":{\"color\":\"#E5ECF6\",\"width\":0.5},\"pattern\":{\"fillmode\":\"overlay\",\"size\":10,\"solidity\":0.2}},\"type\":\"bar\"}],\"scattergeo\":[{\"type\":\"scattergeo\",\"marker\":{\"colorbar\":{\"outlinewidth\":0,\"ticks\":\"\"}}}],\"scatterpolar\":[{\"type\":\"scatterpolar\",\"marker\":{\"colorbar\":{\"outlinewidth\":0,\"ticks\":\"\"}}}],\"histogram\":[{\"marker\":{\"pattern\":{\"fillmode\":\"overlay\",\"size\":10,\"solidity\":0.2}},\"type\":\"histogram\"}],\"scattergl\":[{\"type\":\"scattergl\",\"marker\":{\"colorbar\":{\"outlinewidth\":0,\"ticks\":\"\"}}}],\"scatter3d\":[{\"type\":\"scatter3d\",\"line\":{\"colorbar\":{\"outlinewidth\":0,\"ticks\":\"\"}},\"marker\":{\"colorbar\":{\"outlinewidth\":0,\"ticks\":\"\"}}}],\"scattermapbox\":[{\"type\":\"scattermapbox\",\"marker\":{\"colorbar\":{\"outlinewidth\":0,\"ticks\":\"\"}}}],\"scatterternary\":[{\"type\":\"scatterternary\",\"marker\":{\"colorbar\":{\"outlinewidth\":0,\"ticks\":\"\"}}}],\"scattercarpet\":[{\"type\":\"scattercarpet\",\"marker\":{\"colorbar\":{\"outlinewidth\":0,\"ticks\":\"\"}}}],\"carpet\":[{\"aaxis\":{\"endlinecolor\":\"#2a3f5f\",\"gridcolor\":\"white\",\"linecolor\":\"white\",\"minorgridcolor\":\"white\",\"startlinecolor\":\"#2a3f5f\"},\"baxis\":{\"endlinecolor\":\"#2a3f5f\",\"gridcolor\":\"white\",\"linecolor\":\"white\",\"minorgridcolor\":\"white\",\"startlinecolor\":\"#2a3f5f\"},\"type\":\"carpet\"}],\"table\":[{\"cells\":{\"fill\":{\"color\":\"#EBF0F8\"},\"line\":{\"color\":\"white\"}},\"header\":{\"fill\":{\"color\":\"#C8D4E3\"},\"line\":{\"color\":\"white\"}},\"type\":\"table\"}],\"barpolar\":[{\"marker\":{\"line\":{\"color\":\"#E5ECF6\",\"width\":0.5},\"pattern\":{\"fillmode\":\"overlay\",\"size\":10,\"solidity\":0.2}},\"type\":\"barpolar\"}],\"pie\":[{\"automargin\":true,\"type\":\"pie\"}]},\"layout\":{\"autotypenumbers\":\"strict\",\"colorway\":[\"#636efa\",\"#EF553B\",\"#00cc96\",\"#ab63fa\",\"#FFA15A\",\"#19d3f3\",\"#FF6692\",\"#B6E880\",\"#FF97FF\",\"#FECB52\"],\"font\":{\"color\":\"#2a3f5f\"},\"hovermode\":\"closest\",\"hoverlabel\":{\"align\":\"left\"},\"paper_bgcolor\":\"white\",\"plot_bgcolor\":\"#E5ECF6\",\"polar\":{\"bgcolor\":\"#E5ECF6\",\"angularaxis\":{\"gridcolor\":\"white\",\"linecolor\":\"white\",\"ticks\":\"\"},\"radialaxis\":{\"gridcolor\":\"white\",\"linecolor\":\"white\",\"ticks\":\"\"}},\"ternary\":{\"bgcolor\":\"#E5ECF6\",\"aaxis\":{\"gridcolor\":\"white\",\"linecolor\":\"white\",\"ticks\":\"\"},\"baxis\":{\"gridcolor\":\"white\",\"linecolor\":\"white\",\"ticks\":\"\"},\"caxis\":{\"gridcolor\":\"white\",\"linecolor\":\"white\",\"ticks\":\"\"}},\"coloraxis\":{\"colorbar\":{\"outlinewidth\":0,\"ticks\":\"\"}},\"colorscale\":{\"sequential\":[[0.0,\"#0d0887\"],[0.1111111111111111,\"#46039f\"],[0.2222222222222222,\"#7201a8\"],[0.3333333333333333,\"#9c179e\"],[0.4444444444444444,\"#bd3786\"],[0.5555555555555556,\"#d8576b\"],[0.6666666666666666,\"#ed7953\"],[0.7777777777777778,\"#fb9f3a\"],[0.8888888888888888,\"#fdca26\"],[1.0,\"#f0f921\"]],\"sequentialminus\":[[0.0,\"#0d0887\"],[0.1111111111111111,\"#46039f\"],[0.2222222222222222,\"#7201a8\"],[0.3333333333333333,\"#9c179e\"],[0.4444444444444444,\"#bd3786\"],[0.5555555555555556,\"#d8576b\"],[0.6666666666666666,\"#ed7953\"],[0.7777777777777778,\"#fb9f3a\"],[0.8888888888888888,\"#fdca26\"],[1.0,\"#f0f921\"]],\"diverging\":[[0,\"#8e0152\"],[0.1,\"#c51b7d\"],[0.2,\"#de77ae\"],[0.3,\"#f1b6da\"],[0.4,\"#fde0ef\"],[0.5,\"#f7f7f7\"],[0.6,\"#e6f5d0\"],[0.7,\"#b8e186\"],[0.8,\"#7fbc41\"],[0.9,\"#4d9221\"],[1,\"#276419\"]]},\"xaxis\":{\"gridcolor\":\"white\",\"linecolor\":\"white\",\"ticks\":\"\",\"title\":{\"standoff\":15},\"zerolinecolor\":\"white\",\"automargin\":true,\"zerolinewidth\":2},\"yaxis\":{\"gridcolor\":\"white\",\"linecolor\":\"white\",\"ticks\":\"\",\"title\":{\"standoff\":15},\"zerolinecolor\":\"white\",\"automargin\":true,\"zerolinewidth\":2},\"scene\":{\"xaxis\":{\"backgroundcolor\":\"#E5ECF6\",\"gridcolor\":\"white\",\"linecolor\":\"white\",\"showbackground\":true,\"ticks\":\"\",\"zerolinecolor\":\"white\",\"gridwidth\":2},\"yaxis\":{\"backgroundcolor\":\"#E5ECF6\",\"gridcolor\":\"white\",\"linecolor\":\"white\",\"showbackground\":true,\"ticks\":\"\",\"zerolinecolor\":\"white\",\"gridwidth\":2},\"zaxis\":{\"backgroundcolor\":\"#E5ECF6\",\"gridcolor\":\"white\",\"linecolor\":\"white\",\"showbackground\":true,\"ticks\":\"\",\"zerolinecolor\":\"white\",\"gridwidth\":2}},\"shapedefaults\":{\"line\":{\"color\":\"#2a3f5f\"}},\"annotationdefaults\":{\"arrowcolor\":\"#2a3f5f\",\"arrowhead\":0,\"arrowwidth\":1},\"geo\":{\"bgcolor\":\"white\",\"landcolor\":\"#E5ECF6\",\"subunitcolor\":\"white\",\"showland\":true,\"showlakes\":true,\"lakecolor\":\"white\"},\"title\":{\"x\":0.05},\"mapbox\":{\"style\":\"light\"}}},\"xaxis\":{\"anchor\":\"y\",\"domain\":[0.0,1.0],\"title\":{\"text\":\"Viola\\u00e7\\u00f5es\"}},\"yaxis\":{\"anchor\":\"x\",\"domain\":[0.0,1.0],\"title\":{\"text\":\"Contagem\"}},\"legend\":{\"tracegroupgap\":0},\"margin\":{\"t\":60},\"barmode\":\"relative\",\"title\":{\"text\":\"Histograma da quantidade de viola\\u00e7\\u00f5es\"},\"bargap\":0.2,\"bargroupgap\":0.1},                        {\"responsive\": true}                    ).then(function(){\n",
              "                            \n",
              "var gd = document.getElementById('a772a7b6-6392-42e8-bae7-f05fe126f7e0');\n",
              "var x = new MutationObserver(function (mutations, observer) {{\n",
              "        var display = window.getComputedStyle(gd).display;\n",
              "        if (!display || display === 'none') {{\n",
              "            console.log([gd, 'removed!']);\n",
              "            Plotly.purge(gd);\n",
              "            observer.disconnect();\n",
              "        }}\n",
              "}});\n",
              "\n",
              "// Listen for the removal of the full notebook cells\n",
              "var notebookContainer = gd.closest('#notebook-container');\n",
              "if (notebookContainer) {{\n",
              "    x.observe(notebookContainer, {childList: true});\n",
              "}}\n",
              "\n",
              "// Listen for the clearing of the current output cell\n",
              "var outputEl = gd.closest('.output');\n",
              "if (outputEl) {{\n",
              "    x.observe(outputEl, {childList: true});\n",
              "}}\n",
              "\n",
              "                        })                };                            </script>        </div>\n",
              "</body>\n",
              "</html>"
            ]
          },
          "metadata": {}
        }
      ]
    },
    {
      "cell_type": "markdown",
      "source": [
        "## Análise das possíveis distribuições que melhor representam os dados"
      ],
      "metadata": {
        "id": "roPSttqIYv0x"
      }
    },
    {
      "cell_type": "markdown",
      "source": [
        "Existem dois modelos de regressão para dados de contagem:\n",
        "\n",
        "Poisson:\n",
        "* Apropriado para estimação quando a variável dependen\u0002te for quantitativa e com valores inteiros e não negativos (dados de contagem) por meio da distruição de poisson com média igual à variância.\n",
        "\n",
        "Binomial negativo:\n",
        "\n",
        "* Apropriado para estimação quando a variável dependen\u0002te for quantitativa e com valores inteiros e não negativos (dados de contagem) e quando houver superdispersão nos dados.  "
      ],
      "metadata": {
        "id": "GZB1U_5xY_2d"
      }
    },
    {
      "cell_type": "markdown",
      "source": [
        "## Modelo poisson"
      ],
      "metadata": {
        "id": "tIEeaBs-bw9n"
      }
    },
    {
      "cell_type": "code",
      "source": [
        "media_violations= df_corruption['violations'].mean()\n",
        "var_violation = df_corruption['violations'].var()"
      ],
      "metadata": {
        "id": "R5RWfOzIca0r"
      },
      "execution_count": 7,
      "outputs": []
    },
    {
      "cell_type": "code",
      "source": [
        "print(\"O varriável dependente apresenta média igual a \",media_violations.round(2), \" e variância igual \", var_violation.round(2))"
      ],
      "metadata": {
        "colab": {
          "base_uri": "https://localhost:8080/"
        },
        "id": "OLQe8ehycz12",
        "outputId": "b6cae59a-b369-43a6-96d9-20a14829ee75"
      },
      "execution_count": 8,
      "outputs": [
        {
          "output_type": "stream",
          "name": "stdout",
          "text": [
            "O varriável dependente apresenta média igual a  6.5  e variância igual  331.62\n"
          ]
        }
      ]
    },
    {
      "cell_type": "markdown",
      "source": [
        "Essa grande diferença entre média e variância indica que o modelo binomial negativo pode ser uma melhor opção em relação ao modelo de poisson. Indicios de super disperção dos dados. "
      ],
      "metadata": {
        "id": "RIJiSlPCct-c"
      }
    },
    {
      "cell_type": "markdown",
      "source": [
        "### Estimando o modelo"
      ],
      "metadata": {
        "id": "IENMWZyLi4bN"
      }
    },
    {
      "cell_type": "code",
      "source": [
        "modelo_poisson = smf.glm(formula='violations ~ staff + post + corruption', data=df_corruption,\n",
        "                         family=sm.families.Poisson()).fit()"
      ],
      "metadata": {
        "id": "HUt51YdPijGZ"
      },
      "execution_count": 9,
      "outputs": []
    },
    {
      "cell_type": "code",
      "source": [
        "#Parâmetros do modelo\n",
        "modelo_poisson.summary()"
      ],
      "metadata": {
        "colab": {
          "base_uri": "https://localhost:8080/",
          "height": 337
        },
        "id": "9qYRzh0fjV7A",
        "outputId": "05c529b6-8e2d-40d9-dc3b-035fe0ff140a"
      },
      "execution_count": 10,
      "outputs": [
        {
          "output_type": "execute_result",
          "data": {
            "text/plain": [
              "<class 'statsmodels.iolib.summary.Summary'>\n",
              "\"\"\"\n",
              "                 Generalized Linear Model Regression Results                  \n",
              "==============================================================================\n",
              "Dep. Variable:             violations   No. Observations:                  298\n",
              "Model:                            GLM   Df Residuals:                      294\n",
              "Model Family:                 Poisson   Df Model:                            3\n",
              "Link Function:                    Log   Scale:                          1.0000\n",
              "Method:                          IRLS   Log-Likelihood:                -2071.8\n",
              "Date:                Sat, 01 Apr 2023   Deviance:                       3644.0\n",
              "Time:                        17:48:40   Pearson chi2:                 6.77e+03\n",
              "No. Iterations:                     7   Pseudo R-squ. (CS):             0.9999\n",
              "Covariance Type:            nonrobust                                         \n",
              "===============================================================================\n",
              "                  coef    std err          z      P>|z|      [0.025      0.975]\n",
              "-------------------------------------------------------------------------------\n",
              "Intercept       2.2127      0.031     71.134      0.000       2.152       2.274\n",
              "post[T.yes]    -4.2968      0.197    -21.762      0.000      -4.684      -3.910\n",
              "staff           0.0219      0.001     17.807      0.000       0.019       0.024\n",
              "corruption      0.3418      0.027     12.430      0.000       0.288       0.396\n",
              "===============================================================================\n",
              "\"\"\""
            ],
            "text/html": [
              "<table class=\"simpletable\">\n",
              "<caption>Generalized Linear Model Regression Results</caption>\n",
              "<tr>\n",
              "  <th>Dep. Variable:</th>      <td>violations</td>    <th>  No. Observations:  </th>  <td>   298</td> \n",
              "</tr>\n",
              "<tr>\n",
              "  <th>Model:</th>                  <td>GLM</td>       <th>  Df Residuals:      </th>  <td>   294</td> \n",
              "</tr>\n",
              "<tr>\n",
              "  <th>Model Family:</th>         <td>Poisson</td>     <th>  Df Model:          </th>  <td>     3</td> \n",
              "</tr>\n",
              "<tr>\n",
              "  <th>Link Function:</th>          <td>Log</td>       <th>  Scale:             </th> <td>  1.0000</td>\n",
              "</tr>\n",
              "<tr>\n",
              "  <th>Method:</th>                <td>IRLS</td>       <th>  Log-Likelihood:    </th> <td> -2071.8</td>\n",
              "</tr>\n",
              "<tr>\n",
              "  <th>Date:</th>            <td>Sat, 01 Apr 2023</td> <th>  Deviance:          </th> <td>  3644.0</td>\n",
              "</tr>\n",
              "<tr>\n",
              "  <th>Time:</th>                <td>17:48:40</td>     <th>  Pearson chi2:      </th> <td>6.77e+03</td>\n",
              "</tr>\n",
              "<tr>\n",
              "  <th>No. Iterations:</th>          <td>7</td>        <th>  Pseudo R-squ. (CS):</th>  <td>0.9999</td> \n",
              "</tr>\n",
              "<tr>\n",
              "  <th>Covariance Type:</th>     <td>nonrobust</td>    <th>                     </th>     <td> </td>   \n",
              "</tr>\n",
              "</table>\n",
              "<table class=\"simpletable\">\n",
              "<tr>\n",
              "       <td></td>          <th>coef</th>     <th>std err</th>      <th>z</th>      <th>P>|z|</th>  <th>[0.025</th>    <th>0.975]</th>  \n",
              "</tr>\n",
              "<tr>\n",
              "  <th>Intercept</th>   <td>    2.2127</td> <td>    0.031</td> <td>   71.134</td> <td> 0.000</td> <td>    2.152</td> <td>    2.274</td>\n",
              "</tr>\n",
              "<tr>\n",
              "  <th>post[T.yes]</th> <td>   -4.2968</td> <td>    0.197</td> <td>  -21.762</td> <td> 0.000</td> <td>   -4.684</td> <td>   -3.910</td>\n",
              "</tr>\n",
              "<tr>\n",
              "  <th>staff</th>       <td>    0.0219</td> <td>    0.001</td> <td>   17.807</td> <td> 0.000</td> <td>    0.019</td> <td>    0.024</td>\n",
              "</tr>\n",
              "<tr>\n",
              "  <th>corruption</th>  <td>    0.3418</td> <td>    0.027</td> <td>   12.430</td> <td> 0.000</td> <td>    0.288</td> <td>    0.396</td>\n",
              "</tr>\n",
              "</table>"
            ]
          },
          "metadata": {},
          "execution_count": 10
        }
      ]
    },
    {
      "cell_type": "markdown",
      "source": [
        "## TESTE DE SUPERDISPERSÃO DE CAMERON E TRIVEDI (1990)"
      ],
      "metadata": {
        "id": "1lX5_yawkrpu"
      }
    },
    {
      "cell_type": "markdown",
      "source": [
        "Verificar a existência de superdisperção no dados"
      ],
      "metadata": {
        "id": "SRY-7udylLW4"
      }
    },
    {
      "cell_type": "markdown",
      "source": [
        "1º Passo: estimar um modelo Poisson;"
      ],
      "metadata": {
        "id": "0_sGtr68r9Gt"
      }
    },
    {
      "cell_type": "code",
      "source": [
        "df_corruption['lambda_poisson'] = modelo_poisson.predict()\n"
      ],
      "metadata": {
        "id": "qxgPJchtopo0"
      },
      "execution_count": 11,
      "outputs": []
    },
    {
      "cell_type": "code",
      "source": [
        "df_corruption.head()"
      ],
      "metadata": {
        "colab": {
          "base_uri": "https://localhost:8080/",
          "height": 206
        },
        "id": "YBj4HhM0sd_P",
        "outputId": "9b00dc68-584d-4dd7-831b-4d69ea6b1dad"
      },
      "execution_count": 12,
      "outputs": [
        {
          "output_type": "execute_result",
          "data": {
            "text/plain": [
              "                country code  violations  staff post  corruption  \\\n",
              "0                Angola  AGO          50      9   no    1.047506   \n",
              "1                Angola  AGO           1      9  yes    1.047506   \n",
              "2               Albania  ALB          17      3   no    0.921079   \n",
              "3               Albania  ALB           0      3  yes    0.921079   \n",
              "4  United Arab Emirates  ARE           0      3   no   -0.779468   \n",
              "\n",
              "   lambda_poisson  \n",
              "0       15.919915  \n",
              "1        0.216711  \n",
              "2       13.371720  \n",
              "3        0.182023  \n",
              "4        7.477915  "
            ],
            "text/html": [
              "\n",
              "  <div id=\"df-64686c81-1258-4c8e-91c8-e575bb2f83ac\">\n",
              "    <div class=\"colab-df-container\">\n",
              "      <div>\n",
              "<style scoped>\n",
              "    .dataframe tbody tr th:only-of-type {\n",
              "        vertical-align: middle;\n",
              "    }\n",
              "\n",
              "    .dataframe tbody tr th {\n",
              "        vertical-align: top;\n",
              "    }\n",
              "\n",
              "    .dataframe thead th {\n",
              "        text-align: right;\n",
              "    }\n",
              "</style>\n",
              "<table border=\"1\" class=\"dataframe\">\n",
              "  <thead>\n",
              "    <tr style=\"text-align: right;\">\n",
              "      <th></th>\n",
              "      <th>country</th>\n",
              "      <th>code</th>\n",
              "      <th>violations</th>\n",
              "      <th>staff</th>\n",
              "      <th>post</th>\n",
              "      <th>corruption</th>\n",
              "      <th>lambda_poisson</th>\n",
              "    </tr>\n",
              "  </thead>\n",
              "  <tbody>\n",
              "    <tr>\n",
              "      <th>0</th>\n",
              "      <td>Angola</td>\n",
              "      <td>AGO</td>\n",
              "      <td>50</td>\n",
              "      <td>9</td>\n",
              "      <td>no</td>\n",
              "      <td>1.047506</td>\n",
              "      <td>15.919915</td>\n",
              "    </tr>\n",
              "    <tr>\n",
              "      <th>1</th>\n",
              "      <td>Angola</td>\n",
              "      <td>AGO</td>\n",
              "      <td>1</td>\n",
              "      <td>9</td>\n",
              "      <td>yes</td>\n",
              "      <td>1.047506</td>\n",
              "      <td>0.216711</td>\n",
              "    </tr>\n",
              "    <tr>\n",
              "      <th>2</th>\n",
              "      <td>Albania</td>\n",
              "      <td>ALB</td>\n",
              "      <td>17</td>\n",
              "      <td>3</td>\n",
              "      <td>no</td>\n",
              "      <td>0.921079</td>\n",
              "      <td>13.371720</td>\n",
              "    </tr>\n",
              "    <tr>\n",
              "      <th>3</th>\n",
              "      <td>Albania</td>\n",
              "      <td>ALB</td>\n",
              "      <td>0</td>\n",
              "      <td>3</td>\n",
              "      <td>yes</td>\n",
              "      <td>0.921079</td>\n",
              "      <td>0.182023</td>\n",
              "    </tr>\n",
              "    <tr>\n",
              "      <th>4</th>\n",
              "      <td>United Arab Emirates</td>\n",
              "      <td>ARE</td>\n",
              "      <td>0</td>\n",
              "      <td>3</td>\n",
              "      <td>no</td>\n",
              "      <td>-0.779468</td>\n",
              "      <td>7.477915</td>\n",
              "    </tr>\n",
              "  </tbody>\n",
              "</table>\n",
              "</div>\n",
              "      <button class=\"colab-df-convert\" onclick=\"convertToInteractive('df-64686c81-1258-4c8e-91c8-e575bb2f83ac')\"\n",
              "              title=\"Convert this dataframe to an interactive table.\"\n",
              "              style=\"display:none;\">\n",
              "        \n",
              "  <svg xmlns=\"http://www.w3.org/2000/svg\" height=\"24px\"viewBox=\"0 0 24 24\"\n",
              "       width=\"24px\">\n",
              "    <path d=\"M0 0h24v24H0V0z\" fill=\"none\"/>\n",
              "    <path d=\"M18.56 5.44l.94 2.06.94-2.06 2.06-.94-2.06-.94-.94-2.06-.94 2.06-2.06.94zm-11 1L8.5 8.5l.94-2.06 2.06-.94-2.06-.94L8.5 2.5l-.94 2.06-2.06.94zm10 10l.94 2.06.94-2.06 2.06-.94-2.06-.94-.94-2.06-.94 2.06-2.06.94z\"/><path d=\"M17.41 7.96l-1.37-1.37c-.4-.4-.92-.59-1.43-.59-.52 0-1.04.2-1.43.59L10.3 9.45l-7.72 7.72c-.78.78-.78 2.05 0 2.83L4 21.41c.39.39.9.59 1.41.59.51 0 1.02-.2 1.41-.59l7.78-7.78 2.81-2.81c.8-.78.8-2.07 0-2.86zM5.41 20L4 18.59l7.72-7.72 1.47 1.35L5.41 20z\"/>\n",
              "  </svg>\n",
              "      </button>\n",
              "      \n",
              "  <style>\n",
              "    .colab-df-container {\n",
              "      display:flex;\n",
              "      flex-wrap:wrap;\n",
              "      gap: 12px;\n",
              "    }\n",
              "\n",
              "    .colab-df-convert {\n",
              "      background-color: #E8F0FE;\n",
              "      border: none;\n",
              "      border-radius: 50%;\n",
              "      cursor: pointer;\n",
              "      display: none;\n",
              "      fill: #1967D2;\n",
              "      height: 32px;\n",
              "      padding: 0 0 0 0;\n",
              "      width: 32px;\n",
              "    }\n",
              "\n",
              "    .colab-df-convert:hover {\n",
              "      background-color: #E2EBFA;\n",
              "      box-shadow: 0px 1px 2px rgba(60, 64, 67, 0.3), 0px 1px 3px 1px rgba(60, 64, 67, 0.15);\n",
              "      fill: #174EA6;\n",
              "    }\n",
              "\n",
              "    [theme=dark] .colab-df-convert {\n",
              "      background-color: #3B4455;\n",
              "      fill: #D2E3FC;\n",
              "    }\n",
              "\n",
              "    [theme=dark] .colab-df-convert:hover {\n",
              "      background-color: #434B5C;\n",
              "      box-shadow: 0px 1px 3px 1px rgba(0, 0, 0, 0.15);\n",
              "      filter: drop-shadow(0px 1px 2px rgba(0, 0, 0, 0.3));\n",
              "      fill: #FFFFFF;\n",
              "    }\n",
              "  </style>\n",
              "\n",
              "      <script>\n",
              "        const buttonEl =\n",
              "          document.querySelector('#df-64686c81-1258-4c8e-91c8-e575bb2f83ac button.colab-df-convert');\n",
              "        buttonEl.style.display =\n",
              "          google.colab.kernel.accessAllowed ? 'block' : 'none';\n",
              "\n",
              "        async function convertToInteractive(key) {\n",
              "          const element = document.querySelector('#df-64686c81-1258-4c8e-91c8-e575bb2f83ac');\n",
              "          const dataTable =\n",
              "            await google.colab.kernel.invokeFunction('convertToInteractive',\n",
              "                                                     [key], {});\n",
              "          if (!dataTable) return;\n",
              "\n",
              "          const docLinkHtml = 'Like what you see? Visit the ' +\n",
              "            '<a target=\"_blank\" href=https://colab.research.google.com/notebooks/data_table.ipynb>data table notebook</a>'\n",
              "            + ' to learn more about interactive tables.';\n",
              "          element.innerHTML = '';\n",
              "          dataTable['output_type'] = 'display_data';\n",
              "          await google.colab.output.renderOutput(dataTable, element);\n",
              "          const docLink = document.createElement('div');\n",
              "          docLink.innerHTML = docLinkHtml;\n",
              "          element.appendChild(docLink);\n",
              "        }\n",
              "      </script>\n",
              "    </div>\n",
              "  </div>\n",
              "  "
            ]
          },
          "metadata": {},
          "execution_count": 12
        }
      ]
    },
    {
      "cell_type": "markdown",
      "source": [
        "2º Passo: criar uma nova variável (Y*) utilizando os fitted values do modelo Poisson estimado anteriormente"
      ],
      "metadata": {
        "id": "6fjwnL7Dudh9"
      }
    },
    {
      "cell_type": "code",
      "source": [
        "df_corruption['ystar']=(((df_corruption['violations']-df_corruption['lambda_poisson'])*(df_corruption['violations']-df_corruption['lambda_poisson']))-df_corruption['violations'])/df_corruption['lambda_poisson']"
      ],
      "metadata": {
        "id": "XgxIi6L4q1hA"
      },
      "execution_count": 13,
      "outputs": []
    },
    {
      "cell_type": "code",
      "source": [
        "df_corruption.head()"
      ],
      "metadata": {
        "colab": {
          "base_uri": "https://localhost:8080/",
          "height": 206
        },
        "id": "hE8muJryrAwX",
        "outputId": "e8c8731c-07f9-4ace-c633-69fcd6dc2369"
      },
      "execution_count": 14,
      "outputs": [
        {
          "output_type": "execute_result",
          "data": {
            "text/plain": [
              "                country code  violations  staff post  corruption  \\\n",
              "0                Angola  AGO          50      9   no    1.047506   \n",
              "1                Angola  AGO           1      9  yes    1.047506   \n",
              "2               Albania  ALB          17      3   no    0.921079   \n",
              "3               Albania  ALB           0      3  yes    0.921079   \n",
              "4  United Arab Emirates  ARE           0      3   no   -0.779468   \n",
              "\n",
              "   lambda_poisson      ystar  \n",
              "0       15.919915  69.815208  \n",
              "1        0.216711  -1.783289  \n",
              "2       13.371720  -0.286843  \n",
              "3        0.182023   0.182023  \n",
              "4        7.477915   7.477915  "
            ],
            "text/html": [
              "\n",
              "  <div id=\"df-f486a503-0570-4429-a5b0-26583982a693\">\n",
              "    <div class=\"colab-df-container\">\n",
              "      <div>\n",
              "<style scoped>\n",
              "    .dataframe tbody tr th:only-of-type {\n",
              "        vertical-align: middle;\n",
              "    }\n",
              "\n",
              "    .dataframe tbody tr th {\n",
              "        vertical-align: top;\n",
              "    }\n",
              "\n",
              "    .dataframe thead th {\n",
              "        text-align: right;\n",
              "    }\n",
              "</style>\n",
              "<table border=\"1\" class=\"dataframe\">\n",
              "  <thead>\n",
              "    <tr style=\"text-align: right;\">\n",
              "      <th></th>\n",
              "      <th>country</th>\n",
              "      <th>code</th>\n",
              "      <th>violations</th>\n",
              "      <th>staff</th>\n",
              "      <th>post</th>\n",
              "      <th>corruption</th>\n",
              "      <th>lambda_poisson</th>\n",
              "      <th>ystar</th>\n",
              "    </tr>\n",
              "  </thead>\n",
              "  <tbody>\n",
              "    <tr>\n",
              "      <th>0</th>\n",
              "      <td>Angola</td>\n",
              "      <td>AGO</td>\n",
              "      <td>50</td>\n",
              "      <td>9</td>\n",
              "      <td>no</td>\n",
              "      <td>1.047506</td>\n",
              "      <td>15.919915</td>\n",
              "      <td>69.815208</td>\n",
              "    </tr>\n",
              "    <tr>\n",
              "      <th>1</th>\n",
              "      <td>Angola</td>\n",
              "      <td>AGO</td>\n",
              "      <td>1</td>\n",
              "      <td>9</td>\n",
              "      <td>yes</td>\n",
              "      <td>1.047506</td>\n",
              "      <td>0.216711</td>\n",
              "      <td>-1.783289</td>\n",
              "    </tr>\n",
              "    <tr>\n",
              "      <th>2</th>\n",
              "      <td>Albania</td>\n",
              "      <td>ALB</td>\n",
              "      <td>17</td>\n",
              "      <td>3</td>\n",
              "      <td>no</td>\n",
              "      <td>0.921079</td>\n",
              "      <td>13.371720</td>\n",
              "      <td>-0.286843</td>\n",
              "    </tr>\n",
              "    <tr>\n",
              "      <th>3</th>\n",
              "      <td>Albania</td>\n",
              "      <td>ALB</td>\n",
              "      <td>0</td>\n",
              "      <td>3</td>\n",
              "      <td>yes</td>\n",
              "      <td>0.921079</td>\n",
              "      <td>0.182023</td>\n",
              "      <td>0.182023</td>\n",
              "    </tr>\n",
              "    <tr>\n",
              "      <th>4</th>\n",
              "      <td>United Arab Emirates</td>\n",
              "      <td>ARE</td>\n",
              "      <td>0</td>\n",
              "      <td>3</td>\n",
              "      <td>no</td>\n",
              "      <td>-0.779468</td>\n",
              "      <td>7.477915</td>\n",
              "      <td>7.477915</td>\n",
              "    </tr>\n",
              "  </tbody>\n",
              "</table>\n",
              "</div>\n",
              "      <button class=\"colab-df-convert\" onclick=\"convertToInteractive('df-f486a503-0570-4429-a5b0-26583982a693')\"\n",
              "              title=\"Convert this dataframe to an interactive table.\"\n",
              "              style=\"display:none;\">\n",
              "        \n",
              "  <svg xmlns=\"http://www.w3.org/2000/svg\" height=\"24px\"viewBox=\"0 0 24 24\"\n",
              "       width=\"24px\">\n",
              "    <path d=\"M0 0h24v24H0V0z\" fill=\"none\"/>\n",
              "    <path d=\"M18.56 5.44l.94 2.06.94-2.06 2.06-.94-2.06-.94-.94-2.06-.94 2.06-2.06.94zm-11 1L8.5 8.5l.94-2.06 2.06-.94-2.06-.94L8.5 2.5l-.94 2.06-2.06.94zm10 10l.94 2.06.94-2.06 2.06-.94-2.06-.94-.94-2.06-.94 2.06-2.06.94z\"/><path d=\"M17.41 7.96l-1.37-1.37c-.4-.4-.92-.59-1.43-.59-.52 0-1.04.2-1.43.59L10.3 9.45l-7.72 7.72c-.78.78-.78 2.05 0 2.83L4 21.41c.39.39.9.59 1.41.59.51 0 1.02-.2 1.41-.59l7.78-7.78 2.81-2.81c.8-.78.8-2.07 0-2.86zM5.41 20L4 18.59l7.72-7.72 1.47 1.35L5.41 20z\"/>\n",
              "  </svg>\n",
              "      </button>\n",
              "      \n",
              "  <style>\n",
              "    .colab-df-container {\n",
              "      display:flex;\n",
              "      flex-wrap:wrap;\n",
              "      gap: 12px;\n",
              "    }\n",
              "\n",
              "    .colab-df-convert {\n",
              "      background-color: #E8F0FE;\n",
              "      border: none;\n",
              "      border-radius: 50%;\n",
              "      cursor: pointer;\n",
              "      display: none;\n",
              "      fill: #1967D2;\n",
              "      height: 32px;\n",
              "      padding: 0 0 0 0;\n",
              "      width: 32px;\n",
              "    }\n",
              "\n",
              "    .colab-df-convert:hover {\n",
              "      background-color: #E2EBFA;\n",
              "      box-shadow: 0px 1px 2px rgba(60, 64, 67, 0.3), 0px 1px 3px 1px rgba(60, 64, 67, 0.15);\n",
              "      fill: #174EA6;\n",
              "    }\n",
              "\n",
              "    [theme=dark] .colab-df-convert {\n",
              "      background-color: #3B4455;\n",
              "      fill: #D2E3FC;\n",
              "    }\n",
              "\n",
              "    [theme=dark] .colab-df-convert:hover {\n",
              "      background-color: #434B5C;\n",
              "      box-shadow: 0px 1px 3px 1px rgba(0, 0, 0, 0.15);\n",
              "      filter: drop-shadow(0px 1px 2px rgba(0, 0, 0, 0.3));\n",
              "      fill: #FFFFFF;\n",
              "    }\n",
              "  </style>\n",
              "\n",
              "      <script>\n",
              "        const buttonEl =\n",
              "          document.querySelector('#df-f486a503-0570-4429-a5b0-26583982a693 button.colab-df-convert');\n",
              "        buttonEl.style.display =\n",
              "          google.colab.kernel.accessAllowed ? 'block' : 'none';\n",
              "\n",
              "        async function convertToInteractive(key) {\n",
              "          const element = document.querySelector('#df-f486a503-0570-4429-a5b0-26583982a693');\n",
              "          const dataTable =\n",
              "            await google.colab.kernel.invokeFunction('convertToInteractive',\n",
              "                                                     [key], {});\n",
              "          if (!dataTable) return;\n",
              "\n",
              "          const docLinkHtml = 'Like what you see? Visit the ' +\n",
              "            '<a target=\"_blank\" href=https://colab.research.google.com/notebooks/data_table.ipynb>data table notebook</a>'\n",
              "            + ' to learn more about interactive tables.';\n",
              "          element.innerHTML = '';\n",
              "          dataTable['output_type'] = 'display_data';\n",
              "          await google.colab.output.renderOutput(dataTable, element);\n",
              "          const docLink = document.createElement('div');\n",
              "          docLink.innerHTML = docLinkHtml;\n",
              "          element.appendChild(docLink);\n",
              "        }\n",
              "      </script>\n",
              "    </div>\n",
              "  </div>\n",
              "  "
            ]
          },
          "metadata": {},
          "execution_count": 14
        }
      ]
    },
    {
      "cell_type": "markdown",
      "source": [
        "3º Passo: estimar um modelo auxiliar OLS, com a variável Y* como variável\n",
        "dependente, os fitted values do modelo Poisson como única variável preditora e \n",
        "sem o intercepto;"
      ],
      "metadata": {
        "id": "YJOCpuHauki6"
      }
    },
    {
      "cell_type": "code",
      "source": [
        "modelo_auxiliar = sm.OLS.from_formula(\"ystar ~ 0 + lambda_poisson\", df_corruption).fit()"
      ],
      "metadata": {
        "id": "b3x4Wi2nrD59"
      },
      "execution_count": 15,
      "outputs": []
    },
    {
      "cell_type": "code",
      "source": [
        "modelo_auxiliar.summary()"
      ],
      "metadata": {
        "colab": {
          "base_uri": "https://localhost:8080/",
          "height": 448
        },
        "id": "Vp54dCytrJWI",
        "outputId": "f151a3f7-c0a3-4898-ec06-4f0b5ac2574f"
      },
      "execution_count": 16,
      "outputs": [
        {
          "output_type": "execute_result",
          "data": {
            "text/plain": [
              "<class 'statsmodels.iolib.summary.Summary'>\n",
              "\"\"\"\n",
              "                                 OLS Regression Results                                \n",
              "=======================================================================================\n",
              "Dep. Variable:                  ystar   R-squared (uncentered):                   0.025\n",
              "Model:                            OLS   Adj. R-squared (uncentered):              0.022\n",
              "Method:                 Least Squares   F-statistic:                              7.584\n",
              "Date:                Sat, 01 Apr 2023   Prob (F-statistic):                     0.00625\n",
              "Time:                        17:48:41   Log-Likelihood:                         -1952.9\n",
              "No. Observations:                 298   AIC:                                      3908.\n",
              "Df Residuals:                     297   BIC:                                      3911.\n",
              "Df Model:                           1                                                  \n",
              "Covariance Type:            nonrobust                                                  \n",
              "==================================================================================\n",
              "                     coef    std err          t      P>|t|      [0.025      0.975]\n",
              "----------------------------------------------------------------------------------\n",
              "lambda_poisson     2.6525      0.963      2.754      0.006       0.757       4.548\n",
              "==============================================================================\n",
              "Omnibus:                      607.263   Durbin-Watson:                   2.001\n",
              "Prob(Omnibus):                  0.000   Jarque-Bera (JB):           446004.649\n",
              "Skew:                          13.265   Prob(JB):                         0.00\n",
              "Kurtosis:                     190.659   Cond. No.                         1.00\n",
              "==============================================================================\n",
              "\n",
              "Notes:\n",
              "[1] R² is computed without centering (uncentered) since the model does not contain a constant.\n",
              "[2] Standard Errors assume that the covariance matrix of the errors is correctly specified.\n",
              "\"\"\""
            ],
            "text/html": [
              "<table class=\"simpletable\">\n",
              "<caption>OLS Regression Results</caption>\n",
              "<tr>\n",
              "  <th>Dep. Variable:</th>          <td>ystar</td>      <th>  R-squared (uncentered):</th>      <td>   0.025</td>\n",
              "</tr>\n",
              "<tr>\n",
              "  <th>Model:</th>                   <td>OLS</td>       <th>  Adj. R-squared (uncentered):</th> <td>   0.022</td>\n",
              "</tr>\n",
              "<tr>\n",
              "  <th>Method:</th>             <td>Least Squares</td>  <th>  F-statistic:       </th>          <td>   7.584</td>\n",
              "</tr>\n",
              "<tr>\n",
              "  <th>Date:</th>             <td>Sat, 01 Apr 2023</td> <th>  Prob (F-statistic):</th>           <td>0.00625</td>\n",
              "</tr>\n",
              "<tr>\n",
              "  <th>Time:</th>                 <td>17:48:41</td>     <th>  Log-Likelihood:    </th>          <td> -1952.9</td>\n",
              "</tr>\n",
              "<tr>\n",
              "  <th>No. Observations:</th>      <td>   298</td>      <th>  AIC:               </th>          <td>   3908.</td>\n",
              "</tr>\n",
              "<tr>\n",
              "  <th>Df Residuals:</th>          <td>   297</td>      <th>  BIC:               </th>          <td>   3911.</td>\n",
              "</tr>\n",
              "<tr>\n",
              "  <th>Df Model:</th>              <td>     1</td>      <th>                     </th>              <td> </td>   \n",
              "</tr>\n",
              "<tr>\n",
              "  <th>Covariance Type:</th>      <td>nonrobust</td>    <th>                     </th>              <td> </td>   \n",
              "</tr>\n",
              "</table>\n",
              "<table class=\"simpletable\">\n",
              "<tr>\n",
              "         <td></td>           <th>coef</th>     <th>std err</th>      <th>t</th>      <th>P>|t|</th>  <th>[0.025</th>    <th>0.975]</th>  \n",
              "</tr>\n",
              "<tr>\n",
              "  <th>lambda_poisson</th> <td>    2.6525</td> <td>    0.963</td> <td>    2.754</td> <td> 0.006</td> <td>    0.757</td> <td>    4.548</td>\n",
              "</tr>\n",
              "</table>\n",
              "<table class=\"simpletable\">\n",
              "<tr>\n",
              "  <th>Omnibus:</th>       <td>607.263</td> <th>  Durbin-Watson:     </th>  <td>   2.001</td> \n",
              "</tr>\n",
              "<tr>\n",
              "  <th>Prob(Omnibus):</th> <td> 0.000</td>  <th>  Jarque-Bera (JB):  </th> <td>446004.649</td>\n",
              "</tr>\n",
              "<tr>\n",
              "  <th>Skew:</th>          <td>13.265</td>  <th>  Prob(JB):          </th>  <td>    0.00</td> \n",
              "</tr>\n",
              "<tr>\n",
              "  <th>Kurtosis:</th>      <td>190.659</td> <th>  Cond. No.          </th>  <td>    1.00</td> \n",
              "</tr>\n",
              "</table><br/><br/>Notes:<br/>[1] R² is computed without centering (uncentered) since the model does not contain a constant.<br/>[2] Standard Errors assume that the covariance matrix of the errors is correctly specified."
            ]
          },
          "metadata": {},
          "execution_count": 16
        }
      ]
    },
    {
      "cell_type": "markdown",
      "source": [
        "Caso o p-value do parâmetro do lambda_poisson seja maior que 0.05,\n",
        "verifica-se a existência de equidispersão nos dados.\n",
        "Caso contrário, diagnostica-se a existência de superdispersão nos dados, fato\n",
        "que favorecerá a estimação de um modelo binomial negativo."
      ],
      "metadata": {
        "id": "fJeVwQzLw9WH"
      }
    },
    {
      "cell_type": "markdown",
      "source": [
        "###Elaboração direta do teste de superdispersão"
      ],
      "metadata": {
        "id": "-lVZmqPu8HjK"
      }
    },
    {
      "cell_type": "markdown",
      "source": [
        "Função 'overdisp'\n",
        "Instalação e carregamento da função 'overdisp' do pacote 'statstests.tests'\n",
        "Autores do pacote: Luiz Paulo Fávero e Helder Prado Santos\n",
        "https://stats-tests.github.io/statstests/\n"
      ],
      "metadata": {
        "id": "4JRkR68S8CDw"
      }
    },
    {
      "cell_type": "code",
      "source": [
        "!pip install statstests\n",
        "from statstests.tests import overdisp\n",
        "overdisp(modelo_poisson, df_corruption)"
      ],
      "metadata": {
        "colab": {
          "base_uri": "https://localhost:8080/"
        },
        "id": "8pUflHDp8MB1",
        "outputId": "a01e4780-da11-4798-bd60-9f1f525de2ad"
      },
      "execution_count": 25,
      "outputs": [
        {
          "output_type": "stream",
          "name": "stdout",
          "text": [
            "Looking in indexes: https://pypi.org/simple, https://us-python.pkg.dev/colab-wheels/public/simple/\n",
            "Collecting statstests\n",
            "  Downloading statstests-1.0.4-py3-none-any.whl (10 kB)\n",
            "Installing collected packages: statstests\n",
            "Successfully installed statstests-1.0.4\n",
            "Estimating model...: \n",
            " GLM\n",
            "                        Results: Ordinary least squares\n",
            "===============================================================================\n",
            "Model:                  OLS              Adj. R-squared (uncentered): 0.022    \n",
            "Dependent Variable:     ystar            AIC:                         3907.7809\n",
            "Date:                   2023-04-01 17:50 BIC:                         3911.4780\n",
            "No. Observations:       298              Log-Likelihood:              -1952.9  \n",
            "Df Model:               1                F-statistic:                 7.584    \n",
            "Df Residuals:           297              Prob (F-statistic):          0.00625  \n",
            "R-squared (uncentered): 0.025            Scale:                       28915.   \n",
            "-------------------------------------------------------------------------------------\n",
            "            Coef.        Std.Err.         t          P>|t|        [0.025       0.975]\n",
            "-------------------------------------------------------------------------------------\n",
            "lmbda       2.6525         0.9632       2.7538       0.0063       0.7569       4.5480\n",
            "-------------------------------------------------------------------------------\n",
            "Omnibus:                 607.263          Durbin-Watson:             2.001     \n",
            "Prob(Omnibus):           0.000            Jarque-Bera (JB):          446004.649\n",
            "Skew:                    13.265           Prob(JB):                  0.000     \n",
            "Kurtosis:                190.659          Condition No.:             1         \n",
            "===============================================================================\n",
            " \n",
            "\n",
            "==================Result======================== \n",
            "\n",
            "p-value: 0.0062529853524264985 \n",
            "\n",
            "Indicates overdispersion at 95% confidence level\n"
          ]
        }
      ]
    },
    {
      "cell_type": "markdown",
      "source": [
        "### Predições"
      ],
      "metadata": {
        "id": "yigikQlAxL2T"
      }
    },
    {
      "cell_type": "markdown",
      "source": [
        "Apenas para fins didáticos, caso considerássemos a estimação Poisson como a\n",
        "mais adequada, qual seria a quantidade média esperada de violações de trânsito\n",
        "para um país cujo corpo diplomático fosse composto por 23 membros, considerando\n",
        "o período anterior à vigência da lei e cujo índice de corrupção seja\n",
        "igual a 0.5?"
      ],
      "metadata": {
        "id": "BdzwfCr2yJKn"
      }
    },
    {
      "cell_type": "code",
      "source": [
        "modelo_poisson.predict(pd.DataFrame({'staff':[23], 'post':['no'], 'corruption':[0.5]}))"
      ],
      "metadata": {
        "colab": {
          "base_uri": "https://localhost:8080/"
        },
        "id": "IhEdnWOFyhqR",
        "outputId": "a6c8d09c-9ec6-4209-eed4-8819472f61dd"
      },
      "execution_count": 17,
      "outputs": [
        {
          "output_type": "execute_result",
          "data": {
            "text/plain": [
              "0    17.93284\n",
              "dtype: float64"
            ]
          },
          "metadata": {},
          "execution_count": 17
        }
      ]
    },
    {
      "cell_type": "markdown",
      "source": [
        "Qual seria a quantidade média esperada de violações de trânsito para o mesmo\n",
        "país, porém agora considerando a vigência da lei?"
      ],
      "metadata": {
        "id": "7P_nNBowxPo9"
      }
    },
    {
      "cell_type": "code",
      "source": [
        "modelo_poisson.predict(pd.DataFrame({'staff':[23], 'post':['yes'], 'corruption':[0.5]}))"
      ],
      "metadata": {
        "colab": {
          "base_uri": "https://localhost:8080/"
        },
        "id": "LMuYNzIExUu0",
        "outputId": "0746aaeb-1ba7-4d7e-ce06-3dbbafc716ed"
      },
      "execution_count": 18,
      "outputs": [
        {
          "output_type": "execute_result",
          "data": {
            "text/plain": [
              "0    0.244112\n",
              "dtype: float64"
            ]
          },
          "metadata": {},
          "execution_count": 18
        }
      ]
    },
    {
      "cell_type": "markdown",
      "source": [
        "##ESTIMAÇÃO DO MODELO BINOMIAL NEGATIVO"
      ],
      "metadata": {
        "id": "yGnYv2c-zXpP"
      }
    },
    {
      "cell_type": "code",
      "source": [
        "modelo_binom_neg = smf.glm(formula='violations ~ staff + post + corruption', data=df_corruption,\n",
        "                         family=sm.families.NegativeBinomial()).fit()"
      ],
      "metadata": {
        "id": "UJWB7dt3za5V"
      },
      "execution_count": 19,
      "outputs": []
    },
    {
      "cell_type": "code",
      "source": [
        "modelo_binom_neg.summary()"
      ],
      "metadata": {
        "colab": {
          "base_uri": "https://localhost:8080/",
          "height": 337
        },
        "id": "bFS7Q_I1z7yW",
        "outputId": "1af5e003-1c4a-41f4-c6ee-0bb101c9787e"
      },
      "execution_count": 20,
      "outputs": [
        {
          "output_type": "execute_result",
          "data": {
            "text/plain": [
              "<class 'statsmodels.iolib.summary.Summary'>\n",
              "\"\"\"\n",
              "                 Generalized Linear Model Regression Results                  \n",
              "==============================================================================\n",
              "Dep. Variable:             violations   No. Observations:                  298\n",
              "Model:                            GLM   Df Residuals:                      294\n",
              "Model Family:        NegativeBinomial   Df Model:                            3\n",
              "Link Function:                    Log   Scale:                          1.0000\n",
              "Method:                          IRLS   Log-Likelihood:                -589.97\n",
              "Date:                Sat, 01 Apr 2023   Deviance:                       390.95\n",
              "Time:                        17:48:41   Pearson chi2:                     811.\n",
              "No. Iterations:                    18   Pseudo R-squ. (CS):             0.8548\n",
              "Covariance Type:            nonrobust                                         \n",
              "===============================================================================\n",
              "                  coef    std err          z      P>|z|      [0.025      0.975]\n",
              "-------------------------------------------------------------------------------\n",
              "Intercept       1.9711      0.116     16.935      0.000       1.743       2.199\n",
              "post[T.yes]    -4.2867      0.234    -18.310      0.000      -4.746      -3.828\n",
              "staff           0.0382      0.006      5.885      0.000       0.025       0.051\n",
              "corruption      0.4444      0.085      5.232      0.000       0.278       0.611\n",
              "===============================================================================\n",
              "\"\"\""
            ],
            "text/html": [
              "<table class=\"simpletable\">\n",
              "<caption>Generalized Linear Model Regression Results</caption>\n",
              "<tr>\n",
              "  <th>Dep. Variable:</th>      <td>violations</td>    <th>  No. Observations:  </th>  <td>   298</td> \n",
              "</tr>\n",
              "<tr>\n",
              "  <th>Model:</th>                  <td>GLM</td>       <th>  Df Residuals:      </th>  <td>   294</td> \n",
              "</tr>\n",
              "<tr>\n",
              "  <th>Model Family:</th>    <td>NegativeBinomial</td> <th>  Df Model:          </th>  <td>     3</td> \n",
              "</tr>\n",
              "<tr>\n",
              "  <th>Link Function:</th>          <td>Log</td>       <th>  Scale:             </th> <td>  1.0000</td>\n",
              "</tr>\n",
              "<tr>\n",
              "  <th>Method:</th>                <td>IRLS</td>       <th>  Log-Likelihood:    </th> <td> -589.97</td>\n",
              "</tr>\n",
              "<tr>\n",
              "  <th>Date:</th>            <td>Sat, 01 Apr 2023</td> <th>  Deviance:          </th> <td>  390.95</td>\n",
              "</tr>\n",
              "<tr>\n",
              "  <th>Time:</th>                <td>17:48:41</td>     <th>  Pearson chi2:      </th>  <td>  811.</td> \n",
              "</tr>\n",
              "<tr>\n",
              "  <th>No. Iterations:</th>         <td>18</td>        <th>  Pseudo R-squ. (CS):</th>  <td>0.8548</td> \n",
              "</tr>\n",
              "<tr>\n",
              "  <th>Covariance Type:</th>     <td>nonrobust</td>    <th>                     </th>     <td> </td>   \n",
              "</tr>\n",
              "</table>\n",
              "<table class=\"simpletable\">\n",
              "<tr>\n",
              "       <td></td>          <th>coef</th>     <th>std err</th>      <th>z</th>      <th>P>|z|</th>  <th>[0.025</th>    <th>0.975]</th>  \n",
              "</tr>\n",
              "<tr>\n",
              "  <th>Intercept</th>   <td>    1.9711</td> <td>    0.116</td> <td>   16.935</td> <td> 0.000</td> <td>    1.743</td> <td>    2.199</td>\n",
              "</tr>\n",
              "<tr>\n",
              "  <th>post[T.yes]</th> <td>   -4.2867</td> <td>    0.234</td> <td>  -18.310</td> <td> 0.000</td> <td>   -4.746</td> <td>   -3.828</td>\n",
              "</tr>\n",
              "<tr>\n",
              "  <th>staff</th>       <td>    0.0382</td> <td>    0.006</td> <td>    5.885</td> <td> 0.000</td> <td>    0.025</td> <td>    0.051</td>\n",
              "</tr>\n",
              "<tr>\n",
              "  <th>corruption</th>  <td>    0.4444</td> <td>    0.085</td> <td>    5.232</td> <td> 0.000</td> <td>    0.278</td> <td>    0.611</td>\n",
              "</tr>\n",
              "</table>"
            ]
          },
          "metadata": {},
          "execution_count": 20
        }
      ]
    },
    {
      "cell_type": "markdown",
      "source": [
        "Comparando os parâmetros e os valores de LL de modelo_poisson e modelo_binom_neg"
      ],
      "metadata": {
        "id": "3jx5YOrScbgH"
      }
    },
    {
      "cell_type": "code",
      "source": [
        "modelo_binom_neg.llf #Binomial negativo"
      ],
      "metadata": {
        "colab": {
          "base_uri": "https://localhost:8080/"
        },
        "id": "1oG_N9B90k80",
        "outputId": "56a05dc5-14eb-4a89-833b-aac830086b2c"
      },
      "execution_count": 21,
      "outputs": [
        {
          "output_type": "execute_result",
          "data": {
            "text/plain": [
              "-589.9739880194734"
            ]
          },
          "metadata": {},
          "execution_count": 21
        }
      ]
    },
    {
      "cell_type": "code",
      "source": [
        "modelo_poisson.llf # Poisson"
      ],
      "metadata": {
        "colab": {
          "base_uri": "https://localhost:8080/"
        },
        "id": "TcY-aDpsclDx",
        "outputId": "d528cbbf-9d83-4e54-f8c5-a557deef14c6"
      },
      "execution_count": 22,
      "outputs": [
        {
          "output_type": "execute_result",
          "data": {
            "text/plain": [
              "-2071.7937527648537"
            ]
          },
          "metadata": {},
          "execution_count": 22
        }
      ]
    },
    {
      "cell_type": "markdown",
      "source": [
        "Modelo binomial apresentou valor bem mais alto indicando ser um modelo que se ajusta melhor aos dados"
      ],
      "metadata": {
        "id": "un4M4YAtctQO"
      }
    },
    {
      "cell_type": "markdown",
      "source": [
        "### Realizando predições "
      ],
      "metadata": {
        "id": "_ftSI5KbdIUU"
      }
    },
    {
      "cell_type": "markdown",
      "source": [
        "COMPARAÇÕES ENTRE AS PREVISÕES:\n",
        "\n",
        "Qual seria a quantidade média esperada de violações de trânsito para um país\n",
        "cujo corpo diplomático seja composto por 23 membros, considerando o período\n",
        "anterior à vigência da lei e cujo índice de corrupção seja igual 0.5?"
      ],
      "metadata": {
        "id": "E9WD6X8qdXlw"
      }
    },
    {
      "cell_type": "code",
      "source": [
        "modelo_poisson.predict(pd.DataFrame({'staff':[23], 'post':['no'], 'corruption':[0.5]}))"
      ],
      "metadata": {
        "colab": {
          "base_uri": "https://localhost:8080/"
        },
        "id": "W8UJHZyHdPMj",
        "outputId": "3db18571-b1a7-4c1c-9357-996c2c60a4dc"
      },
      "execution_count": 23,
      "outputs": [
        {
          "output_type": "execute_result",
          "data": {
            "text/plain": [
              "0    17.93284\n",
              "dtype: float64"
            ]
          },
          "metadata": {},
          "execution_count": 23
        }
      ]
    },
    {
      "cell_type": "code",
      "source": [
        "modelo_binom_neg.predict(pd.DataFrame({'staff':[23], 'post':['no'], 'corruption':[0.5]}))"
      ],
      "metadata": {
        "id": "6ZlItuBvdhb9",
        "outputId": "756ab16b-264d-4a4d-98c1-b1d9e0c66d64",
        "colab": {
          "base_uri": "https://localhost:8080/"
        }
      },
      "execution_count": 24,
      "outputs": [
        {
          "output_type": "execute_result",
          "data": {
            "text/plain": [
              "0    21.586739\n",
              "dtype: float64"
            ]
          },
          "metadata": {},
          "execution_count": 24
        }
      ]
    },
    {
      "cell_type": "markdown",
      "source": [
        "## Modelos Inflacionados de Zeros"
      ],
      "metadata": {
        "id": "1iAhNW0k7-QA"
      }
    },
    {
      "cell_type": "markdown",
      "source": [
        "São considerados uma combinação entre um modelo para dados de contagem e um modelo para\n",
        "dados binários, já que são utilizados para investigar as razões que levam a determinada quantidade de\n",
        "ocorrências (contagens) de um fenômeno, bem como as razões que levam (ou não) à ocorrência\n",
        "propriamente dita deste fenômeno, independentemente da quantidade de contagens observadas.\n",
        "Enquanto um modelo Poisson inflacionado de zeros é estimado a partir da combinação de uma\n",
        "distribuição Bernoulli com uma distribuição Poisson, um modelo binomial negativo inflacionado de\n",
        "zeros é estimado por meio da combinação de uma distribuição Bernoulli com uma distribuição\n",
        "Poisson-Gama.\n",
        "\n",
        "LAMBERT, D. Zero-inflated Poisson regression, with an application to defects in manufacturing.\n",
        "Technometrics, v. 34, n. 1, p. 1-14, 1992.\n"
      ],
      "metadata": {
        "id": "C-4fNSRY8tkM"
      }
    },
    {
      "cell_type": "markdown",
      "source": [
        "### Modelos Inflacionados de Zeros do Tipo Poisson (ZIP)"
      ],
      "metadata": {
        "id": "gkgdNX0L9VMK"
      }
    },
    {
      "cell_type": "code",
      "source": [
        "\n",
        "y = df_corruption.violations #Definição da variável dependente (voltando ao dataset 'df_corruption')\n",
        "x1 = df_corruption[['staff','post','corruption']]#Definição das variáveis preditoras que entrarão no componente de contagem\n",
        "X1 = sm.add_constant(x1)\n",
        "x2 = df_corruption[['corruption']]#Definição das variáveis preditoras que entrarão no componente logit (inflate)\n",
        "X2 = sm.add_constant(x2)\n",
        "#Se estimarmos o modelo sem dummizar as variáveis categórias, o modelo retorna\n",
        "#um erro\n",
        "X1 = pd.get_dummies(X1, columns=['post'], drop_first=True)#Se estimarmos o modelo sem dummizar as variáveis categórias, o modelo retorna um erro\n",
        "\n"
      ],
      "metadata": {
        "id": "bbZL5Nqo9pIL"
      },
      "execution_count": 27,
      "outputs": []
    },
    {
      "cell_type": "markdown",
      "source": [
        "Estimação do modelo ZIP pela função 'ZeroInflatedPoisson' do pacote\n",
        "'Statsmodels'\n",
        "\n",
        "Estimação do modelo ZIP\n",
        "O argumento 'exog_infl' corresponde às variáveis que entram no componente\n",
        "logit (inflate)\n"
      ],
      "metadata": {
        "id": "eZ47H8g7932o"
      }
    },
    {
      "cell_type": "code",
      "source": [
        "modelo_zip = sm.ZeroInflatedPoisson(y, X1, exog_infl=X2,\n",
        "                                    inflation='logit').fit()"
      ],
      "metadata": {
        "colab": {
          "base_uri": "https://localhost:8080/"
        },
        "id": "uVqZNaOZ95bU",
        "outputId": "ba56a6ce-4b9b-42d8-a759-82dac538729b"
      },
      "execution_count": 28,
      "outputs": [
        {
          "output_type": "stream",
          "name": "stdout",
          "text": [
            "Optimization terminated successfully.\n",
            "         Current function value: 5.977545\n",
            "         Iterations: 22\n",
            "         Function evaluations: 27\n",
            "         Gradient evaluations: 27\n"
          ]
        }
      ]
    },
    {
      "cell_type": "code",
      "source": [
        "#Parâmetros do modelo\n",
        "modelo_zip.summary()"
      ],
      "metadata": {
        "colab": {
          "base_uri": "https://localhost:8080/",
          "height": 337
        },
        "id": "yaLb1e-5-Ame",
        "outputId": "ac56d4dd-629d-4434-ef01-4f9a544bc922"
      },
      "execution_count": 29,
      "outputs": [
        {
          "output_type": "execute_result",
          "data": {
            "text/plain": [
              "<class 'statsmodels.iolib.summary.Summary'>\n",
              "\"\"\"\n",
              "                     ZeroInflatedPoisson Regression Results                    \n",
              "===============================================================================\n",
              "Dep. Variable:              violations   No. Observations:                  298\n",
              "Model:             ZeroInflatedPoisson   Df Residuals:                      294\n",
              "Method:                            MLE   Df Model:                            3\n",
              "Date:                 Sat, 01 Apr 2023   Pseudo R-squ.:                  0.1975\n",
              "Time:                         17:58:00   Log-Likelihood:                -1781.3\n",
              "converged:                        True   LL-Null:                       -2219.8\n",
              "Covariance Type:             nonrobust   LLR p-value:                8.828e-190\n",
              "======================================================================================\n",
              "                         coef    std err          z      P>|z|      [0.025      0.975]\n",
              "--------------------------------------------------------------------------------------\n",
              "inflate_const         -1.6116      0.240     -6.714      0.000      -2.082      -1.141\n",
              "inflate_corruption    -0.9523      0.195     -4.875      0.000      -1.335      -0.569\n",
              "const                  2.4889      0.032     78.990      0.000       2.427       2.551\n",
              "staff                  0.0200      0.001     16.154      0.000       0.018       0.022\n",
              "corruption             0.0937      0.030      3.127      0.002       0.035       0.152\n",
              "post_yes              -4.2879      0.201    -21.291      0.000      -4.683      -3.893\n",
              "======================================================================================\n",
              "\"\"\""
            ],
            "text/html": [
              "<table class=\"simpletable\">\n",
              "<caption>ZeroInflatedPoisson Regression Results</caption>\n",
              "<tr>\n",
              "  <th>Dep. Variable:</th>       <td>violations</td>      <th>  No. Observations:  </th>   <td>   298</td>  \n",
              "</tr>\n",
              "<tr>\n",
              "  <th>Model:</th>           <td>ZeroInflatedPoisson</td> <th>  Df Residuals:      </th>   <td>   294</td>  \n",
              "</tr>\n",
              "<tr>\n",
              "  <th>Method:</th>                  <td>MLE</td>         <th>  Df Model:          </th>   <td>     3</td>  \n",
              "</tr>\n",
              "<tr>\n",
              "  <th>Date:</th>             <td>Sat, 01 Apr 2023</td>   <th>  Pseudo R-squ.:     </th>   <td>0.1975</td>  \n",
              "</tr>\n",
              "<tr>\n",
              "  <th>Time:</th>                 <td>17:58:00</td>       <th>  Log-Likelihood:    </th>  <td> -1781.3</td> \n",
              "</tr>\n",
              "<tr>\n",
              "  <th>converged:</th>              <td>True</td>         <th>  LL-Null:           </th>  <td> -2219.8</td> \n",
              "</tr>\n",
              "<tr>\n",
              "  <th>Covariance Type:</th>      <td>nonrobust</td>      <th>  LLR p-value:       </th> <td>8.828e-190</td>\n",
              "</tr>\n",
              "</table>\n",
              "<table class=\"simpletable\">\n",
              "<tr>\n",
              "           <td></td>             <th>coef</th>     <th>std err</th>      <th>z</th>      <th>P>|z|</th>  <th>[0.025</th>    <th>0.975]</th>  \n",
              "</tr>\n",
              "<tr>\n",
              "  <th>inflate_const</th>      <td>   -1.6116</td> <td>    0.240</td> <td>   -6.714</td> <td> 0.000</td> <td>   -2.082</td> <td>   -1.141</td>\n",
              "</tr>\n",
              "<tr>\n",
              "  <th>inflate_corruption</th> <td>   -0.9523</td> <td>    0.195</td> <td>   -4.875</td> <td> 0.000</td> <td>   -1.335</td> <td>   -0.569</td>\n",
              "</tr>\n",
              "<tr>\n",
              "  <th>const</th>              <td>    2.4889</td> <td>    0.032</td> <td>   78.990</td> <td> 0.000</td> <td>    2.427</td> <td>    2.551</td>\n",
              "</tr>\n",
              "<tr>\n",
              "  <th>staff</th>              <td>    0.0200</td> <td>    0.001</td> <td>   16.154</td> <td> 0.000</td> <td>    0.018</td> <td>    0.022</td>\n",
              "</tr>\n",
              "<tr>\n",
              "  <th>corruption</th>         <td>    0.0937</td> <td>    0.030</td> <td>    3.127</td> <td> 0.002</td> <td>    0.035</td> <td>    0.152</td>\n",
              "</tr>\n",
              "<tr>\n",
              "  <th>post_yes</th>           <td>   -4.2879</td> <td>    0.201</td> <td>  -21.291</td> <td> 0.000</td> <td>   -4.683</td> <td>   -3.893</td>\n",
              "</tr>\n",
              "</table>"
            ]
          },
          "metadata": {},
          "execution_count": 29
        }
      ]
    },
    {
      "cell_type": "markdown",
      "source": [
        "Gráfico para comparar os valores previstos x valores reais de\n",
        " 'violations' pelo modelo ZIP"
      ],
      "metadata": {
        "id": "pR4XpP1p-GiD"
      }
    },
    {
      "cell_type": "code",
      "source": [
        "zip_predictions = modelo_zip.predict(X1, exog_infl=X2)\n",
        "predicted_counts = np.round(zip_predictions)\n",
        "actual_counts = df_corruption['violations']\n",
        "\n",
        "plt.figure(figsize=(15,10))\n",
        "plt.plot(df_corruption.index, predicted_counts, 'go-',\n",
        "         color='orange')\n",
        "plt.plot(df_corruption.index, actual_counts, 'go-',\n",
        "         color='#440154FF')\n",
        "plt.xlabel('Observação', fontsize=20)\n",
        "plt.ylabel('Violações de Trânsito', fontsize=20)\n",
        "plt.legend(['Valores Previstos pelo ZIP', 'Valores Reais no Dataset'],\n",
        "           fontsize=20)\n",
        "plt.show()"
      ],
      "metadata": {
        "colab": {
          "base_uri": "https://localhost:8080/",
          "height": 868
        },
        "id": "dp7VYEeu-J3P",
        "outputId": "47bc6740-5003-4bd2-de1f-78db9f5b6044"
      },
      "execution_count": 30,
      "outputs": [
        {
          "output_type": "display_data",
          "data": {
            "text/plain": [
              "<Figure size 1500x1000 with 1 Axes>"
            ],
            "image/png": "[encoded data removed]"
          },
          "metadata": {}
        }
      ]
    },
    {
      "cell_type": "markdown",
      "source": [
        "## Comparando os modelos Poisson e ZIP"
      ],
      "metadata": {
        "id": "PtGxqXZW-Wbl"
      }
    },
    {
      "cell_type": "code",
      "source": [
        "summary_col([modelo_poisson, modelo_zip], \n",
        "            model_names=[\"Poisson\",\"ZIP\"],\n",
        "            stars=True,\n",
        "            info_dict = {\n",
        "                'N':lambda x: \"{0:d}\".format(int(x.nobs)),\n",
        "                'Log-lik':lambda x: \"{:.2f}\".format(x.llf),\n",
        "                'Pseudo-R2':lambda x: \"{:.4f}\".format(x.pseudo_rsquared()),\n",
        "        })\n"
      ],
      "metadata": {
        "colab": {
          "base_uri": "https://localhost:8080/",
          "height": 446
        },
        "id": "YkmToBTI-Ysy",
        "outputId": "b982a320-000e-46ab-dbac-0dc9d892b1c9"
      },
      "execution_count": 31,
      "outputs": [
        {
          "output_type": "execute_result",
          "data": {
            "text/plain": [
              "<class 'statsmodels.iolib.summary2.Summary'>\n",
              "\"\"\"\n",
              "\n",
              "========================================\n",
              "                    Poisson      ZIP    \n",
              "----------------------------------------\n",
              "Intercept          2.2127***            \n",
              "                   (0.0311)             \n",
              "const                         2.4889*** \n",
              "                              (0.0315)  \n",
              "corruption         0.3418***  0.0937*** \n",
              "                   (0.0275)   (0.0300)  \n",
              "inflate_const                 -1.6116***\n",
              "                              (0.2401)  \n",
              "inflate_corruption            -0.9523***\n",
              "                              (0.1954)  \n",
              "post[T.yes]        -4.2968***           \n",
              "                   (0.1974)             \n",
              "post_yes                      -4.2879***\n",
              "                              (0.2014)  \n",
              "staff              0.0219***  0.0200*** \n",
              "                   (0.0012)   (0.0012)  \n",
              "N                  298        298       \n",
              "Log-lik            -2071.79   -1781.31  \n",
              "Pseudo-R2          0.9999               \n",
              "========================================\n",
              "Standard errors in parentheses.\n",
              "* p<.1, ** p<.05, ***p<.01\n",
              "\"\"\""
            ],
            "text/html": [
              "<table class=\"simpletable\">\n",
              "<tr>\n",
              "           <td></td>            <th>Poisson</th>      <th>ZIP</th>   \n",
              "</tr>\n",
              "<tr>\n",
              "  <th>Intercept</th>           <td>2.2127***</td>      <td></td>     \n",
              "</tr>\n",
              "<tr>\n",
              "  <th></th>                    <td>(0.0311)</td>       <td></td>     \n",
              "</tr>\n",
              "<tr>\n",
              "  <th>const</th>                   <td></td>       <td>2.4889***</td>\n",
              "</tr>\n",
              "<tr>\n",
              "  <th></th>                        <td></td>       <td>(0.0315)</td> \n",
              "</tr>\n",
              "<tr>\n",
              "  <th>corruption</th>          <td>0.3418***</td>  <td>0.0937***</td>\n",
              "</tr>\n",
              "<tr>\n",
              "  <th></th>                    <td>(0.0275)</td>   <td>(0.0300)</td> \n",
              "</tr>\n",
              "<tr>\n",
              "  <th>inflate_const</th>           <td></td>      <td>-1.6116***</td>\n",
              "</tr>\n",
              "<tr>\n",
              "  <th></th>                        <td></td>       <td>(0.2401)</td> \n",
              "</tr>\n",
              "<tr>\n",
              "  <th>inflate_corruption</th>      <td></td>      <td>-0.9523***</td>\n",
              "</tr>\n",
              "<tr>\n",
              "  <th></th>                        <td></td>       <td>(0.1954)</td> \n",
              "</tr>\n",
              "<tr>\n",
              "  <th>post[T.yes]</th>        <td>-4.2968***</td>      <td></td>     \n",
              "</tr>\n",
              "<tr>\n",
              "  <th></th>                    <td>(0.1974)</td>       <td></td>     \n",
              "</tr>\n",
              "<tr>\n",
              "  <th>post_yes</th>                <td></td>      <td>-4.2879***</td>\n",
              "</tr>\n",
              "<tr>\n",
              "  <th></th>                        <td></td>       <td>(0.2014)</td> \n",
              "</tr>\n",
              "<tr>\n",
              "  <th>staff</th>               <td>0.0219***</td>  <td>0.0200***</td>\n",
              "</tr>\n",
              "<tr>\n",
              "  <th></th>                    <td>(0.0012)</td>   <td>(0.0012)</td> \n",
              "</tr>\n",
              "<tr>\n",
              "  <th>N</th>                      <td>298</td>        <td>298</td>   \n",
              "</tr>\n",
              "<tr>\n",
              "  <th>Log-lik</th>             <td>-2071.79</td>   <td>-1781.31</td> \n",
              "</tr>\n",
              "<tr>\n",
              "  <th>Pseudo-R2</th>            <td>0.9999</td>        <td></td>     \n",
              "</tr>\n",
              "</table>"
            ]
          },
          "metadata": {},
          "execution_count": 31
        }
      ]
    },
    {
      "cell_type": "markdown",
      "source": [
        "likelihood ratio test para comparação de LL's entre modelos"
      ],
      "metadata": {
        "id": "6J3d5Don-djY"
      }
    },
    {
      "cell_type": "code",
      "source": [
        "#Definição da função 'lrtest'\n",
        "def lrtest(modelos):\n",
        "    modelo_1 = modelos[0]\n",
        "    llk_1 = modelo_1.llnull\n",
        "    llk_2 = modelo_1.llf\n",
        "    \n",
        "    if len(modelos)>1:\n",
        "        llk_1 = modelo_1.llf\n",
        "        llk_2 = modelos[1].llf\n",
        "    LR_statistic = -2*(llk_1-llk_2)\n",
        "    p_val = stats.chi2.sf(LR_statistic, 1)\n",
        "    return round(LR_statistic,2), round(p_val,2)\n"
      ],
      "metadata": {
        "id": "8s22Fdrt-gCu"
      },
      "execution_count": 33,
      "outputs": []
    },
    {
      "cell_type": "code",
      "source": [
        "lrtest([modelo_poisson, modelo_zip])"
      ],
      "metadata": {
        "colab": {
          "base_uri": "https://localhost:8080/"
        },
        "id": "A-EzEj66-iVw",
        "outputId": "6a2248de-6dc3-481a-ea02-9a4a260f975d"
      },
      "execution_count": 34,
      "outputs": [
        {
          "output_type": "execute_result",
          "data": {
            "text/plain": [
              "(580.97, 0.0)"
            ]
          },
          "metadata": {},
          "execution_count": 34
        }
      ]
    },
    {
      "cell_type": "markdown",
      "source": [
        "O teste likelihood mostrou que os LL's entre o modelo poisson e ZIP são estatísticamente diferentes "
      ],
      "metadata": {
        "id": "79oeyC1p-lzV"
      }
    },
    {
      "cell_type": "markdown",
      "source": [
        "Gráfico para a comparação dos LL dos modelos Poisson, BNeg e ZIP"
      ],
      "metadata": {
        "id": "gduH-JRf-9TF"
      }
    },
    {
      "cell_type": "code",
      "source": [
        "#Definição do dataframe com os modelos e respectivos LL\n",
        "df_llf = pd.DataFrame({'modelo':['Poisson','ZIP','BNeg'],\n",
        "                      'loglik':[modelo_poisson.llf,\n",
        "                                modelo_zip.llf,\n",
        "                                modelo_binom_neg.llf]})\n",
        "df_llf\n",
        "\n",
        "#Plotagem propriamente dita\n",
        "fig, ax = plt.subplots(figsize=(12,8))\n",
        "\n",
        "c = [\"#440154FF\", \"#453781FF\", \"#22A884FF\"]\n",
        "\n",
        "ax1 = ax.barh(df_llf.modelo, df_llf.loglik, color = c)\n",
        "ax.bar_label(ax1, label_type='center', color='white', fontsize=24)\n",
        "ax.set_ylabel(\"Estimação\", fontsize=20)\n",
        "ax.set_xlabel(\"Log-Likehood\", fontsize=20)\n"
      ],
      "metadata": {
        "colab": {
          "base_uri": "https://localhost:8080/",
          "height": 727
        },
        "id": "IqcZ28DZ-_Tx",
        "outputId": "d22f755b-70e6-4f06-f54a-1ab7f40c7507"
      },
      "execution_count": 37,
      "outputs": [
        {
          "output_type": "execute_result",
          "data": {
            "text/plain": [
              "Text(0.5, 0, 'Log-Likehood')"
            ]
          },
          "metadata": {},
          "execution_count": 37
        },
        {
          "output_type": "display_data",
          "data": {
            "text/plain": [
              "<Figure size 1200x800 with 1 Axes>"
            ],
            "image/png": "[encoded data removed]"
          },
          "metadata": {}
        }
      ]
    },
    {
      "cell_type": "markdown",
      "source": [
        "### COMPARAÇÕES ENTRE AS PREVISÕES:"
      ],
      "metadata": {
        "id": "I7d0qwb1E7do"
      }
    },
    {
      "cell_type": "markdown",
      "source": [
        "Supondo que considerássemos a estimação ZIP como a mais adequada, qual seria a \n",
        "quantidade média esperada de violações de trânsito para um país cujo corpo \n",
        "diplomático seja composto por 23 membros, considerando o período anterior à \n",
        "vigência da lei e cujo índice de corrupção seja igual a 0.5?"
      ],
      "metadata": {
        "id": "1TDeZmrsE_gh"
      }
    },
    {
      "cell_type": "code",
      "source": [
        "#Modelo Poisson:\n",
        "modelo_poisson.predict(pd.DataFrame({'staff':[23],\n",
        "                                     'post':['no'],\n",
        "                                     'corruption':[0.5]}))"
      ],
      "metadata": {
        "colab": {
          "base_uri": "https://localhost:8080/"
        },
        "id": "q4LNA_J5E_CX",
        "outputId": "da0bb7a2-fdd9-49b0-cb0c-f85ba2f25735"
      },
      "execution_count": 38,
      "outputs": [
        {
          "output_type": "execute_result",
          "data": {
            "text/plain": [
              "0    17.93284\n",
              "dtype: float64"
            ]
          },
          "metadata": {},
          "execution_count": 38
        }
      ]
    },
    {
      "cell_type": "code",
      "source": [
        "#Modelo binomial negativo:\n",
        "modelo_binom_neg.predict(pd.DataFrame({'staff':[23],\n",
        "                                  'post':['no'],\n",
        "                                  'corruption':[0.5]}))"
      ],
      "metadata": {
        "colab": {
          "base_uri": "https://localhost:8080/"
        },
        "id": "u6igx37oFiN_",
        "outputId": "10482f24-38e1-46ba-8791-a853d31a6ef9"
      },
      "execution_count": 39,
      "outputs": [
        {
          "output_type": "execute_result",
          "data": {
            "text/plain": [
              "0    21.586739\n",
              "dtype: float64"
            ]
          },
          "metadata": {},
          "execution_count": 39
        }
      ]
    },
    {
      "cell_type": "code",
      "source": [
        "#Modelo ZIP:\n",
        "#Obs.: manter a ordem dos parâmetros nos argumentos da função 'predict' modelo_zip.params\n",
        "modelo_zip.predict(pd.DataFrame({'const':[1],\n",
        "                                 'staff':[23],\n",
        "                                 'corruption':[0.5],\n",
        "                                 'post_yes':[0]}),\n",
        "                   exog_infl=pd.DataFrame({'const':[1],\n",
        "                                           'corruption':[0.5]}))"
      ],
      "metadata": {
        "colab": {
          "base_uri": "https://localhost:8080/"
        },
        "id": "1vQmoDS6FqLF",
        "outputId": "bc8e279f-968c-4369-f3cf-a0c13939d925"
      },
      "execution_count": 40,
      "outputs": [
        {
          "output_type": "execute_result",
          "data": {
            "text/plain": [
              "0    17.802404\n",
              "dtype: float64"
            ]
          },
          "metadata": {},
          "execution_count": 40
        }
      ]
    },
    {
      "cell_type": "markdown",
      "source": [
        "Qual seria a quantidade média esperada de violações de trânsito para o mesmo\n",
        "país ao se considerar o início da vigência da lei?"
      ],
      "metadata": {
        "id": "gUlSPXkRF2e2"
      }
    },
    {
      "cell_type": "code",
      "source": [
        "#Modelo Poisson:\n",
        "modelo_poisson.predict(pd.DataFrame({'staff':[23],\n",
        "                                     'post':['yes'],\n",
        "                                     'corruption':[0.5]}))"
      ],
      "metadata": {
        "colab": {
          "base_uri": "https://localhost:8080/"
        },
        "id": "0DwzG5m_F7q5",
        "outputId": "702a42a9-b32f-4e5c-aeae-edcae1c68be0"
      },
      "execution_count": 41,
      "outputs": [
        {
          "output_type": "execute_result",
          "data": {
            "text/plain": [
              "0    0.244112\n",
              "dtype: float64"
            ]
          },
          "metadata": {},
          "execution_count": 41
        }
      ]
    },
    {
      "cell_type": "code",
      "source": [
        "#Modelo binomial negativo:\n",
        "modelo_binom_neg.predict(pd.DataFrame({'staff':[23],\n",
        "                                  'post':['yes'],\n",
        "                                  'corruption':[0.5]}))\n"
      ],
      "metadata": {
        "colab": {
          "base_uri": "https://localhost:8080/"
        },
        "id": "QPrJws0rF9PO",
        "outputId": "19ffb233-f952-4a0c-f2ba-b4c92cbbecfa"
      },
      "execution_count": 43,
      "outputs": [
        {
          "output_type": "execute_result",
          "data": {
            "text/plain": [
              "0    0.296818\n",
              "dtype: float64"
            ]
          },
          "metadata": {},
          "execution_count": 43
        }
      ]
    },
    {
      "cell_type": "code",
      "source": [
        "#Modelo ZIP:\n",
        "modelo_zip.predict(pd.DataFrame({'const':[1],\n",
        "                                 'staff':[23],\n",
        "                                 'corruption':[0.5],\n",
        "                                 'post_yes':[1]}),\n",
        "                   exog_infl=pd.DataFrame({'const':[1],\n",
        "                                           'corruption':[0.5]}))\n"
      ],
      "metadata": {
        "colab": {
          "base_uri": "https://localhost:8080/"
        },
        "id": "1mRSexNEGCo-",
        "outputId": "90b0c71d-8040-4274-df01-6fc843c216a7"
      },
      "execution_count": 44,
      "outputs": [
        {
          "output_type": "execute_result",
          "data": {
            "text/plain": [
              "0    0.24449\n",
              "dtype: float64"
            ]
          },
          "metadata": {},
          "execution_count": 44
        }
      ]
    },
    {
      "cell_type": "markdown",
      "source": [
        "### ESTIMAÇÃO DO MODELO ZERO-INFLATED BINOMIAL NEGATIVO (ZINB)  "
      ],
      "metadata": {
        "id": "DLGeZkuuHCzR"
      }
    },
    {
      "cell_type": "code",
      "source": [
        "y = df_corruption.violations #Definição da variável dependente (voltando ao dataset 'df_corruption')\n",
        "x1 = df_corruption[['staff','post','corruption']]#Definição das variáveis preditoras que entrarão no componente de contagem\n",
        "X1 = sm.add_constant(x1)\n",
        "x2 = df_corruption[['corruption']]#Definição das variáveis preditoras que entrarão no componente logit (inflate)\n",
        "X2 = sm.add_constant(x2)\n",
        "\n",
        "#Se estimarmos o modelo sem dummizar as variáveis categórias, o modelo retorna\n",
        "#um erro\n",
        "X1 = pd.get_dummies(X1, columns=['post'], drop_first=True)"
      ],
      "metadata": {
        "id": "qGQHybX6G_2e"
      },
      "execution_count": 45,
      "outputs": []
    },
    {
      "cell_type": "code",
      "source": [
        "#Estimação do modelo ZINB pela função 'ZeroInflatedNegativeBinomialP' do\n",
        "#pacote 'statsmodels.discrete.count_model'\n",
        "\n",
        "from statsmodels.discrete.count_model import ZeroInflatedNegativeBinomialP\n",
        "\n",
        "#Estimação do modelo ZINB\n",
        "#O argumento 'exog_infl' corresponde às variáveis que entram no componente\n",
        "#logit (inflate)\n",
        "modelo_zinb = ZeroInflatedNegativeBinomialP(y, X1, exog_infl=X2,\n",
        "                                            inflation='logit').fit()"
      ],
      "metadata": {
        "colab": {
          "base_uri": "https://localhost:8080/"
        },
        "id": "LxWQOACBHU3X",
        "outputId": "ce39ed81-0c09-492a-baec-283ad4cfd683"
      },
      "execution_count": 46,
      "outputs": [
        {
          "output_type": "stream",
          "name": "stdout",
          "text": [
            "Warning: Maximum number of iterations has been exceeded.\n",
            "         Current function value: 1.870015\n",
            "         Iterations: 35\n",
            "         Function evaluations: 39\n",
            "         Gradient evaluations: 39\n"
          ]
        }
      ]
    },
    {
      "cell_type": "code",
      "source": [
        "#Parâmetros do modelo\n",
        "modelo_zinb.summary()"
      ],
      "metadata": {
        "colab": {
          "base_uri": "https://localhost:8080/",
          "height": 359
        },
        "id": "c4t48HxOIyJF",
        "outputId": "e5186006-89f2-4c28-dab0-f27faca8b8d4"
      },
      "execution_count": 47,
      "outputs": [
        {
          "output_type": "execute_result",
          "data": {
            "text/plain": [
              "<class 'statsmodels.iolib.summary.Summary'>\n",
              "\"\"\"\n",
              "                     ZeroInflatedNegativeBinomialP Regression Results                    \n",
              "=========================================================================================\n",
              "Dep. Variable:                        violations   No. Observations:                  298\n",
              "Model:             ZeroInflatedNegativeBinomialP   Df Residuals:                      294\n",
              "Method:                                      MLE   Df Model:                            3\n",
              "Date:                           Sat, 01 Apr 2023   Pseudo R-squ.:                  0.1700\n",
              "Time:                                   18:45:06   Log-Likelihood:                -557.26\n",
              "converged:                                 False   LL-Null:                       -671.37\n",
              "Covariance Type:                       nonrobust   LLR p-value:                 3.353e-49\n",
              "======================================================================================\n",
              "                         coef    std err          z      P>|z|      [0.025      0.975]\n",
              "--------------------------------------------------------------------------------------\n",
              "inflate_const        -17.9857      9.287     -1.937      0.053     -36.187       0.216\n",
              "inflate_corruption    -8.1104      4.037     -2.009      0.045     -16.023      -0.197\n",
              "const                  2.0324      0.203      9.988      0.000       1.634       2.431\n",
              "staff                  0.0411      0.013      3.078      0.002       0.015       0.067\n",
              "corruption             0.1815      0.147      1.237      0.216      -0.106       0.469\n",
              "post_yes              -4.2638      0.261    -16.328      0.000      -4.776      -3.752\n",
              "alpha                  1.8560      0.218      8.518      0.000       1.429       2.283\n",
              "======================================================================================\n",
              "\"\"\""
            ],
            "text/html": [
              "<table class=\"simpletable\">\n",
              "<caption>ZeroInflatedNegativeBinomialP Regression Results</caption>\n",
              "<tr>\n",
              "  <th>Dep. Variable:</th>            <td>violations</td>           <th>  No. Observations:  </th>  <td>   298</td>  \n",
              "</tr>\n",
              "<tr>\n",
              "  <th>Model:</th>           <td>ZeroInflatedNegativeBinomialP</td> <th>  Df Residuals:      </th>  <td>   294</td>  \n",
              "</tr>\n",
              "<tr>\n",
              "  <th>Method:</th>                       <td>MLE</td>              <th>  Df Model:          </th>  <td>     3</td>  \n",
              "</tr>\n",
              "<tr>\n",
              "  <th>Date:</th>                  <td>Sat, 01 Apr 2023</td>        <th>  Pseudo R-squ.:     </th>  <td>0.1700</td>  \n",
              "</tr>\n",
              "<tr>\n",
              "  <th>Time:</th>                      <td>18:45:06</td>            <th>  Log-Likelihood:    </th> <td> -557.26</td> \n",
              "</tr>\n",
              "<tr>\n",
              "  <th>converged:</th>                   <td>False</td>             <th>  LL-Null:           </th> <td> -671.37</td> \n",
              "</tr>\n",
              "<tr>\n",
              "  <th>Covariance Type:</th>           <td>nonrobust</td>           <th>  LLR p-value:       </th> <td>3.353e-49</td>\n",
              "</tr>\n",
              "</table>\n",
              "<table class=\"simpletable\">\n",
              "<tr>\n",
              "           <td></td>             <th>coef</th>     <th>std err</th>      <th>z</th>      <th>P>|z|</th>  <th>[0.025</th>    <th>0.975]</th>  \n",
              "</tr>\n",
              "<tr>\n",
              "  <th>inflate_const</th>      <td>  -17.9857</td> <td>    9.287</td> <td>   -1.937</td> <td> 0.053</td> <td>  -36.187</td> <td>    0.216</td>\n",
              "</tr>\n",
              "<tr>\n",
              "  <th>inflate_corruption</th> <td>   -8.1104</td> <td>    4.037</td> <td>   -2.009</td> <td> 0.045</td> <td>  -16.023</td> <td>   -0.197</td>\n",
              "</tr>\n",
              "<tr>\n",
              "  <th>const</th>              <td>    2.0324</td> <td>    0.203</td> <td>    9.988</td> <td> 0.000</td> <td>    1.634</td> <td>    2.431</td>\n",
              "</tr>\n",
              "<tr>\n",
              "  <th>staff</th>              <td>    0.0411</td> <td>    0.013</td> <td>    3.078</td> <td> 0.002</td> <td>    0.015</td> <td>    0.067</td>\n",
              "</tr>\n",
              "<tr>\n",
              "  <th>corruption</th>         <td>    0.1815</td> <td>    0.147</td> <td>    1.237</td> <td> 0.216</td> <td>   -0.106</td> <td>    0.469</td>\n",
              "</tr>\n",
              "<tr>\n",
              "  <th>post_yes</th>           <td>   -4.2638</td> <td>    0.261</td> <td>  -16.328</td> <td> 0.000</td> <td>   -4.776</td> <td>   -3.752</td>\n",
              "</tr>\n",
              "<tr>\n",
              "  <th>alpha</th>              <td>    1.8560</td> <td>    0.218</td> <td>    8.518</td> <td> 0.000</td> <td>    1.429</td> <td>    2.283</td>\n",
              "</tr>\n",
              "</table>"
            ]
          },
          "metadata": {},
          "execution_count": 47
        }
      ]
    },
    {
      "cell_type": "markdown",
      "source": [
        "O parâmetro 'alpha' apresentado é o inverso do parâmetro 'theta', ou seja,\n",
        "o inverso do parâmetro de forma da distribuição Poisson-Gama.\n",
        "Como 'alpha' (e da mesma forma 'theta') é estatisticamente diferente de\n",
        "zero, podemos afirmar que há superdispersão nos dados (outra forma de\n",
        "verificar o fenômeno da superdispersão!)"
      ],
      "metadata": {
        "id": "5IcucDazJXlD"
      }
    },
    {
      "cell_type": "code",
      "source": [
        "# Gráfico para comparar os valores previstos x valores reais de\n",
        "#'violations' pelo modelo ZINB\n",
        "zinb_predictions = modelo_zinb.predict(X1, exog_infl=X2)\n",
        "predicted_counts = np.round(zinb_predictions)\n",
        "actual_counts = df_corruption['violations']\n",
        "plt.figure(figsize=(12,8))\n",
        "plt.plot(df_corruption.index, predicted_counts, 'go-',\n",
        "         color='orange')\n",
        "plt.plot(df_corruption.index, actual_counts, 'go-',\n",
        "         color='#440154FF')\n",
        "plt.xlabel('Observação', fontsize=20)\n",
        "plt.ylabel('Violações de Trânsito', fontsize=20)\n",
        "plt.legend(['Valores Previstos pelo ZINB', 'Valores Reais no Dataset'],\n",
        "           fontsize=20)\n",
        "plt.show()"
      ],
      "metadata": {
        "colab": {
          "base_uri": "https://localhost:8080/",
          "height": 710
        },
        "id": "GSOwo3zpJiw4",
        "outputId": "30fdb64d-f564-4b1b-9392-dfd678ca3a3a"
      },
      "execution_count": 49,
      "outputs": [
        {
          "output_type": "display_data",
          "data": {
            "text/plain": [
              "<Figure size 1200x800 with 1 Axes>"
            ],
            "image/png": "[encoded data removed]"
          },
          "metadata": {}
        }
      ]
    },
    {
      "cell_type": "markdown",
      "source": [
        "### Comparando os modelos BNeg e ZINB"
      ],
      "metadata": {
        "id": "618h5ka7JvYu"
      }
    },
    {
      "cell_type": "code",
      "source": [
        "summary_col([modelo_binom_neg, modelo_zinb], \n",
        "            model_names=[\"BNeg\",\"ZINB\"],\n",
        "            stars=True,\n",
        "            info_dict = {\n",
        "                'N':lambda x: \"{0:d}\".format(int(x.nobs)),\n",
        "                'Log-lik':lambda x: \"{:.2f}\".format(x.llf),\n",
        "                'Pseudo-R2':lambda x: \"{:.4f}\".format(x.pseudo_rsquared()),\n",
        "        })\n"
      ],
      "metadata": {
        "colab": {
          "base_uri": "https://localhost:8080/",
          "height": 489
        },
        "id": "yusK6Kc4JxZ1",
        "outputId": "d385b948-0412-4fef-d741-d9b9dbac884f"
      },
      "execution_count": 51,
      "outputs": [
        {
          "output_type": "execute_result",
          "data": {
            "text/plain": [
              "<class 'statsmodels.iolib.summary2.Summary'>\n",
              "\"\"\"\n",
              "\n",
              "========================================\n",
              "                      BNeg       ZINB   \n",
              "----------------------------------------\n",
              "Intercept          1.9711***            \n",
              "                   (0.1164)             \n",
              "alpha                         1.8560*** \n",
              "                              (0.2179)  \n",
              "const                         2.0324*** \n",
              "                              (0.2035)  \n",
              "corruption         0.4444***  0.1815    \n",
              "                   (0.0849)   (0.1466)  \n",
              "inflate_const                 -17.9857* \n",
              "                              (9.2867)  \n",
              "inflate_corruption            -8.1104** \n",
              "                              (4.0373)  \n",
              "post[T.yes]        -4.2867***           \n",
              "                   (0.2341)             \n",
              "post_yes                      -4.2638***\n",
              "                              (0.2611)  \n",
              "staff              0.0382***  0.0411*** \n",
              "                   (0.0065)   (0.0133)  \n",
              "N                  298        298       \n",
              "Log-lik            -589.97    -557.26   \n",
              "Pseudo-R2          0.8548               \n",
              "========================================\n",
              "Standard errors in parentheses.\n",
              "* p<.1, ** p<.05, ***p<.01\n",
              "\"\"\""
            ],
            "text/html": [
              "<table class=\"simpletable\">\n",
              "<tr>\n",
              "           <td></td>             <th>BNeg</th>       <th>ZINB</th>   \n",
              "</tr>\n",
              "<tr>\n",
              "  <th>Intercept</th>           <td>1.9711***</td>      <td></td>     \n",
              "</tr>\n",
              "<tr>\n",
              "  <th></th>                    <td>(0.1164)</td>       <td></td>     \n",
              "</tr>\n",
              "<tr>\n",
              "  <th>alpha</th>                   <td></td>       <td>1.8560***</td>\n",
              "</tr>\n",
              "<tr>\n",
              "  <th></th>                        <td></td>       <td>(0.2179)</td> \n",
              "</tr>\n",
              "<tr>\n",
              "  <th>const</th>                   <td></td>       <td>2.0324***</td>\n",
              "</tr>\n",
              "<tr>\n",
              "  <th></th>                        <td></td>       <td>(0.2035)</td> \n",
              "</tr>\n",
              "<tr>\n",
              "  <th>corruption</th>          <td>0.4444***</td>   <td>0.1815</td>  \n",
              "</tr>\n",
              "<tr>\n",
              "  <th></th>                    <td>(0.0849)</td>   <td>(0.1466)</td> \n",
              "</tr>\n",
              "<tr>\n",
              "  <th>inflate_const</th>           <td></td>       <td>-17.9857*</td>\n",
              "</tr>\n",
              "<tr>\n",
              "  <th></th>                        <td></td>       <td>(9.2867)</td> \n",
              "</tr>\n",
              "<tr>\n",
              "  <th>inflate_corruption</th>      <td></td>       <td>-8.1104**</td>\n",
              "</tr>\n",
              "<tr>\n",
              "  <th></th>                        <td></td>       <td>(4.0373)</td> \n",
              "</tr>\n",
              "<tr>\n",
              "  <th>post[T.yes]</th>        <td>-4.2867***</td>      <td></td>     \n",
              "</tr>\n",
              "<tr>\n",
              "  <th></th>                    <td>(0.2341)</td>       <td></td>     \n",
              "</tr>\n",
              "<tr>\n",
              "  <th>post_yes</th>                <td></td>      <td>-4.2638***</td>\n",
              "</tr>\n",
              "<tr>\n",
              "  <th></th>                        <td></td>       <td>(0.2611)</td> \n",
              "</tr>\n",
              "<tr>\n",
              "  <th>staff</th>               <td>0.0382***</td>  <td>0.0411***</td>\n",
              "</tr>\n",
              "<tr>\n",
              "  <th></th>                    <td>(0.0065)</td>   <td>(0.0133)</td> \n",
              "</tr>\n",
              "<tr>\n",
              "  <th>N</th>                      <td>298</td>        <td>298</td>   \n",
              "</tr>\n",
              "<tr>\n",
              "  <th>Log-lik</th>              <td>-589.97</td>    <td>-557.26</td> \n",
              "</tr>\n",
              "<tr>\n",
              "  <th>Pseudo-R2</th>            <td>0.8548</td>        <td></td>     \n",
              "</tr>\n",
              "</table>"
            ]
          },
          "metadata": {},
          "execution_count": 51
        }
      ]
    },
    {
      "cell_type": "markdown",
      "source": [
        " likelihood ratio test para comparação de LL's entre modelos"
      ],
      "metadata": {
        "id": "osoOXrwdWgK6"
      }
    },
    {
      "cell_type": "code",
      "source": [
        "lrtest([modelo_binom_neg, modelo_zinb])"
      ],
      "metadata": {
        "colab": {
          "base_uri": "https://localhost:8080/"
        },
        "id": "WLh8cO6wWi2G",
        "outputId": "f33fe7af-5a3d-4cec-f182-5274ab851299"
      },
      "execution_count": 53,
      "outputs": [
        {
          "output_type": "execute_result",
          "data": {
            "text/plain": [
              "(65.42, 0.0)"
            ]
          },
          "metadata": {},
          "execution_count": 53
        }
      ]
    },
    {
      "cell_type": "markdown",
      "source": [
        "Gráfico para a comparação dos LL dos modelos Poisson, BNeg, ZIP e ZINB"
      ],
      "metadata": {
        "id": "_Q1bjV1JXU_J"
      }
    },
    {
      "cell_type": "code",
      "source": [
        "df_llf = pd.DataFrame({'modelo':['Poisson','ZIP','BNeg','ZINB'],\n",
        "                      'loglik':[modelo_poisson.llf,\n",
        "                                modelo_zip.llf,\n",
        "                                modelo_binom_neg.llf,\n",
        "                                modelo_zinb.llf]})\n",
        "df_llf"
      ],
      "metadata": {
        "colab": {
          "base_uri": "https://localhost:8080/",
          "height": 175
        },
        "id": "bN_TdePkXX8p",
        "outputId": "0931eefe-a800-4b85-f5d5-e1106cc65bae"
      },
      "execution_count": 56,
      "outputs": [
        {
          "output_type": "execute_result",
          "data": {
            "text/plain": [
              "    modelo       loglik\n",
              "0  Poisson -2071.793753\n",
              "1      ZIP -1781.308425\n",
              "2     BNeg  -589.973988\n",
              "3     ZINB  -557.264368"
            ],
            "text/html": [
              "\n",
              "  <div id=\"df-fc757ad7-4207-41b8-9976-0634af89d90f\">\n",
              "    <div class=\"colab-df-container\">\n",
              "      <div>\n",
              "<style scoped>\n",
              "    .dataframe tbody tr th:only-of-type {\n",
              "        vertical-align: middle;\n",
              "    }\n",
              "\n",
              "    .dataframe tbody tr th {\n",
              "        vertical-align: top;\n",
              "    }\n",
              "\n",
              "    .dataframe thead th {\n",
              "        text-align: right;\n",
              "    }\n",
              "</style>\n",
              "<table border=\"1\" class=\"dataframe\">\n",
              "  <thead>\n",
              "    <tr style=\"text-align: right;\">\n",
              "      <th></th>\n",
              "      <th>modelo</th>\n",
              "      <th>loglik</th>\n",
              "    </tr>\n",
              "  </thead>\n",
              "  <tbody>\n",
              "    <tr>\n",
              "      <th>0</th>\n",
              "      <td>Poisson</td>\n",
              "      <td>-2071.793753</td>\n",
              "    </tr>\n",
              "    <tr>\n",
              "      <th>1</th>\n",
              "      <td>ZIP</td>\n",
              "      <td>-1781.308425</td>\n",
              "    </tr>\n",
              "    <tr>\n",
              "      <th>2</th>\n",
              "      <td>BNeg</td>\n",
              "      <td>-589.973988</td>\n",
              "    </tr>\n",
              "    <tr>\n",
              "      <th>3</th>\n",
              "      <td>ZINB</td>\n",
              "      <td>-557.264368</td>\n",
              "    </tr>\n",
              "  </tbody>\n",
              "</table>\n",
              "</div>\n",
              "      <button class=\"colab-df-convert\" onclick=\"convertToInteractive('df-fc757ad7-4207-41b8-9976-0634af89d90f')\"\n",
              "              title=\"Convert this dataframe to an interactive table.\"\n",
              "              style=\"display:none;\">\n",
              "        \n",
              "  <svg xmlns=\"http://www.w3.org/2000/svg\" height=\"24px\"viewBox=\"0 0 24 24\"\n",
              "       width=\"24px\">\n",
              "    <path d=\"M0 0h24v24H0V0z\" fill=\"none\"/>\n",
              "    <path d=\"M18.56 5.44l.94 2.06.94-2.06 2.06-.94-2.06-.94-.94-2.06-.94 2.06-2.06.94zm-11 1L8.5 8.5l.94-2.06 2.06-.94-2.06-.94L8.5 2.5l-.94 2.06-2.06.94zm10 10l.94 2.06.94-2.06 2.06-.94-2.06-.94-.94-2.06-.94 2.06-2.06.94z\"/><path d=\"M17.41 7.96l-1.37-1.37c-.4-.4-.92-.59-1.43-.59-.52 0-1.04.2-1.43.59L10.3 9.45l-7.72 7.72c-.78.78-.78 2.05 0 2.83L4 21.41c.39.39.9.59 1.41.59.51 0 1.02-.2 1.41-.59l7.78-7.78 2.81-2.81c.8-.78.8-2.07 0-2.86zM5.41 20L4 18.59l7.72-7.72 1.47 1.35L5.41 20z\"/>\n",
              "  </svg>\n",
              "      </button>\n",
              "      \n",
              "  <style>\n",
              "    .colab-df-container {\n",
              "      display:flex;\n",
              "      flex-wrap:wrap;\n",
              "      gap: 12px;\n",
              "    }\n",
              "\n",
              "    .colab-df-convert {\n",
              "      background-color: #E8F0FE;\n",
              "      border: none;\n",
              "      border-radius: 50%;\n",
              "      cursor: pointer;\n",
              "      display: none;\n",
              "      fill: #1967D2;\n",
              "      height: 32px;\n",
              "      padding: 0 0 0 0;\n",
              "      width: 32px;\n",
              "    }\n",
              "\n",
              "    .colab-df-convert:hover {\n",
              "      background-color: #E2EBFA;\n",
              "      box-shadow: 0px 1px 2px rgba(60, 64, 67, 0.3), 0px 1px 3px 1px rgba(60, 64, 67, 0.15);\n",
              "      fill: #174EA6;\n",
              "    }\n",
              "\n",
              "    [theme=dark] .colab-df-convert {\n",
              "      background-color: #3B4455;\n",
              "      fill: #D2E3FC;\n",
              "    }\n",
              "\n",
              "    [theme=dark] .colab-df-convert:hover {\n",
              "      background-color: #434B5C;\n",
              "      box-shadow: 0px 1px 3px 1px rgba(0, 0, 0, 0.15);\n",
              "      filter: drop-shadow(0px 1px 2px rgba(0, 0, 0, 0.3));\n",
              "      fill: #FFFFFF;\n",
              "    }\n",
              "  </style>\n",
              "\n",
              "      <script>\n",
              "        const buttonEl =\n",
              "          document.querySelector('#df-fc757ad7-4207-41b8-9976-0634af89d90f button.colab-df-convert');\n",
              "        buttonEl.style.display =\n",
              "          google.colab.kernel.accessAllowed ? 'block' : 'none';\n",
              "\n",
              "        async function convertToInteractive(key) {\n",
              "          const element = document.querySelector('#df-fc757ad7-4207-41b8-9976-0634af89d90f');\n",
              "          const dataTable =\n",
              "            await google.colab.kernel.invokeFunction('convertToInteractive',\n",
              "                                                     [key], {});\n",
              "          if (!dataTable) return;\n",
              "\n",
              "          const docLinkHtml = 'Like what you see? Visit the ' +\n",
              "            '<a target=\"_blank\" href=https://colab.research.google.com/notebooks/data_table.ipynb>data table notebook</a>'\n",
              "            + ' to learn more about interactive tables.';\n",
              "          element.innerHTML = '';\n",
              "          dataTable['output_type'] = 'display_data';\n",
              "          await google.colab.output.renderOutput(dataTable, element);\n",
              "          const docLink = document.createElement('div');\n",
              "          docLink.innerHTML = docLinkHtml;\n",
              "          element.appendChild(docLink);\n",
              "        }\n",
              "      </script>\n",
              "    </div>\n",
              "  </div>\n",
              "  "
            ]
          },
          "metadata": {},
          "execution_count": 56
        }
      ]
    },
    {
      "cell_type": "markdown",
      "source": [
        "Plotagem propriamente dita"
      ],
      "metadata": {
        "id": "BfdEbTNnXh7E"
      }
    },
    {
      "cell_type": "code",
      "source": [
        "fig, ax = plt.subplots(figsize=(15,10))\n",
        "\n",
        "c = [\"#440154FF\", \"#453781FF\", \"#22A884FF\", \"orange\"]\n",
        "\n",
        "ax1 = ax.barh(df_llf.modelo, df_llf.loglik, color = c)\n",
        "ax.bar_label(ax1, label_type='center', color='white', fontsize=24)\n",
        "ax.set_ylabel(\"Estimação\", fontsize=20)\n",
        "ax.set_xlabel(\"Log-Likehood\", fontsize=20)\n"
      ],
      "metadata": {
        "colab": {
          "base_uri": "https://localhost:8080/",
          "height": 881
        },
        "id": "UpaR24KRXjjl",
        "outputId": "fc126b01-3eca-4695-9e6e-5db17260f653"
      },
      "execution_count": 57,
      "outputs": [
        {
          "output_type": "execute_result",
          "data": {
            "text/plain": [
              "Text(0.5, 0, 'Log-Likehood')"
            ]
          },
          "metadata": {},
          "execution_count": 57
        },
        {
          "output_type": "display_data",
          "data": {
            "text/plain": [
              "<Figure size 1500x1000 with 1 Axes>"
            ],
            "image/png": "[encoded data removed]"
          },
          "metadata": {}
        }
      ]
    },
    {
      "cell_type": "markdown",
      "source": [
        "####  COMPARAÇÕES ENTRE AS PREVISÕES:\n",
        "Supondo que considerássemos a estimação ZINB como a mais adequada, qual seria\n",
        "a quantidade média esperada de violações de trânsito para um país cujo corpo \n",
        "vigência da lei e cujo índice de corrupção seja igual a 0.5?"
      ],
      "metadata": {
        "id": "-lArccIQXu1P"
      }
    },
    {
      "cell_type": "code",
      "source": [
        "#Modelo ZINB:\n",
        "#Obs.: manter a ordem dos parâmetros nos argumentos da função 'predict'\n",
        "modelo_zinb.params\n",
        "modelo_zinb.predict(pd.DataFrame({'const':[1],\n",
        "                                  'staff':[23],\n",
        "                                  'corruption':[0.5],\n",
        "                                  'post_yes':[0]}),\n",
        "                    exog_infl=pd.DataFrame({'const':[1],\n",
        "                                            'corruption':[0.5]}))"
      ],
      "metadata": {
        "colab": {
          "base_uri": "https://localhost:8080/"
        },
        "id": "ak0D8xQUYjNW",
        "outputId": "451952d3-4dcb-4267-8fe9-73973e3804bc"
      },
      "execution_count": 58,
      "outputs": [
        {
          "output_type": "execute_result",
          "data": {
            "text/plain": [
              "0    21.495939\n",
              "dtype: float64"
            ]
          },
          "metadata": {},
          "execution_count": 58
        }
      ]
    },
    {
      "cell_type": "markdown",
      "source": [
        "Qual seria a quantidade média esperada de violações de trânsito para o mesmo\n",
        "país, porém agora considerando a vigência da lei?"
      ],
      "metadata": {
        "id": "fkdTAKLdYqPt"
      }
    },
    {
      "cell_type": "code",
      "source": [
        "#Modelo ZINB:\n",
        "modelo_zinb.predict(pd.DataFrame({'const':[1],\n",
        "                                  'staff':[23],\n",
        "                                  'corruption':[0.5],\n",
        "                                  'post_yes':[1]}),\n",
        "                    exog_infl=pd.DataFrame({'const':[1],\n",
        "                                            'corruption':[0.5]}))"
      ],
      "metadata": {
        "colab": {
          "base_uri": "https://localhost:8080/"
        },
        "id": "w_7-2Kr6YtWU",
        "outputId": "7aaf298f-d892-4e09-fbf1-71f0be412d4e"
      },
      "execution_count": 59,
      "outputs": [
        {
          "output_type": "execute_result",
          "data": {
            "text/plain": [
              "0    0.302422\n",
              "dtype: float64"
            ]
          },
          "metadata": {},
          "execution_count": 59
        }
      ]
    },
    {
      "cell_type": "markdown",
      "source": [
        "## Gráfico de comparação de fitted values dos 4 modelos desenvolvidos"
      ],
      "metadata": {
        "id": "0Wm72f2kY_Eb"
      }
    },
    {
      "cell_type": "code",
      "source": [
        "# In[ ]: Adicionando os fitted values dos modelos estimados para fins de\n",
        "#comparação\n",
        "df_corruption['fitted_zip'] = modelo_zip.predict(X1, exog_infl=X2)\n",
        "df_corruption['fitted_zinb'] = modelo_zinb.predict(X1, exog_infl=X2)\n",
        "df_corruption['fitted_poisson'] = modelo_poisson.fittedvalues\n",
        "df_corruption['fitted_bneg'] = modelo_binom_neg.fittedvalues\n",
        "\n",
        "df_corruption.head()\n"
      ],
      "metadata": {
        "colab": {
          "base_uri": "https://localhost:8080/",
          "height": 206
        },
        "id": "VV7GBj8vY5R9",
        "outputId": "40e09562-1c88-4dee-8e1a-4a814a385946"
      },
      "execution_count": 62,
      "outputs": [
        {
          "output_type": "execute_result",
          "data": {
            "text/plain": [
              "                country code  violations  staff post  corruption  \\\n",
              "0                Angola  AGO          50      9   no    1.047506   \n",
              "1                Angola  AGO           1      9  yes    1.047506   \n",
              "2               Albania  ALB          17      3   no    0.921079   \n",
              "3               Albania  ALB           0      3  yes    0.921079   \n",
              "4  United Arab Emirates  ARE           0      3   no   -0.779468   \n",
              "\n",
              "   lambda_poisson      ystar  fitted_zip  fitted_zinb  fitted_poisson  \\\n",
              "0       15.919915  69.815208   14.823562    13.358543       15.919915   \n",
              "1        0.216711  -1.783289    0.203580     0.187939        0.216711   \n",
              "2       13.371720  -0.286843   12.877979    10.203814       13.371720   \n",
              "3        0.182023   0.182023    0.176860     0.143555        0.182023   \n",
              "4        7.477915   7.477915    8.379367     7.494531        7.477915   \n",
              "\n",
              "   fitted_bneg  \n",
              "0    16.126548  \n",
              "1     0.221740  \n",
              "2    12.122094  \n",
              "3     0.166679  \n",
              "4     5.693394  "
            ],
            "text/html": [
              "\n",
              "  <div id=\"df-32b77a76-36cf-406f-a205-73efac6300b6\">\n",
              "    <div class=\"colab-df-container\">\n",
              "      <div>\n",
              "<style scoped>\n",
              "    .dataframe tbody tr th:only-of-type {\n",
              "        vertical-align: middle;\n",
              "    }\n",
              "\n",
              "    .dataframe tbody tr th {\n",
              "        vertical-align: top;\n",
              "    }\n",
              "\n",
              "    .dataframe thead th {\n",
              "        text-align: right;\n",
              "    }\n",
              "</style>\n",
              "<table border=\"1\" class=\"dataframe\">\n",
              "  <thead>\n",
              "    <tr style=\"text-align: right;\">\n",
              "      <th></th>\n",
              "      <th>country</th>\n",
              "      <th>code</th>\n",
              "      <th>violations</th>\n",
              "      <th>staff</th>\n",
              "      <th>post</th>\n",
              "      <th>corruption</th>\n",
              "      <th>lambda_poisson</th>\n",
              "      <th>ystar</th>\n",
              "      <th>fitted_zip</th>\n",
              "      <th>fitted_zinb</th>\n",
              "      <th>fitted_poisson</th>\n",
              "      <th>fitted_bneg</th>\n",
              "    </tr>\n",
              "  </thead>\n",
              "  <tbody>\n",
              "    <tr>\n",
              "      <th>0</th>\n",
              "      <td>Angola</td>\n",
              "      <td>AGO</td>\n",
              "      <td>50</td>\n",
              "      <td>9</td>\n",
              "      <td>no</td>\n",
              "      <td>1.047506</td>\n",
              "      <td>15.919915</td>\n",
              "      <td>69.815208</td>\n",
              "      <td>14.823562</td>\n",
              "      <td>13.358543</td>\n",
              "      <td>15.919915</td>\n",
              "      <td>16.126548</td>\n",
              "    </tr>\n",
              "    <tr>\n",
              "      <th>1</th>\n",
              "      <td>Angola</td>\n",
              "      <td>AGO</td>\n",
              "      <td>1</td>\n",
              "      <td>9</td>\n",
              "      <td>yes</td>\n",
              "      <td>1.047506</td>\n",
              "      <td>0.216711</td>\n",
              "      <td>-1.783289</td>\n",
              "      <td>0.203580</td>\n",
              "      <td>0.187939</td>\n",
              "      <td>0.216711</td>\n",
              "      <td>0.221740</td>\n",
              "    </tr>\n",
              "    <tr>\n",
              "      <th>2</th>\n",
              "      <td>Albania</td>\n",
              "      <td>ALB</td>\n",
              "      <td>17</td>\n",
              "      <td>3</td>\n",
              "      <td>no</td>\n",
              "      <td>0.921079</td>\n",
              "      <td>13.371720</td>\n",
              "      <td>-0.286843</td>\n",
              "      <td>12.877979</td>\n",
              "      <td>10.203814</td>\n",
              "      <td>13.371720</td>\n",
              "      <td>12.122094</td>\n",
              "    </tr>\n",
              "    <tr>\n",
              "      <th>3</th>\n",
              "      <td>Albania</td>\n",
              "      <td>ALB</td>\n",
              "      <td>0</td>\n",
              "      <td>3</td>\n",
              "      <td>yes</td>\n",
              "      <td>0.921079</td>\n",
              "      <td>0.182023</td>\n",
              "      <td>0.182023</td>\n",
              "      <td>0.176860</td>\n",
              "      <td>0.143555</td>\n",
              "      <td>0.182023</td>\n",
              "      <td>0.166679</td>\n",
              "    </tr>\n",
              "    <tr>\n",
              "      <th>4</th>\n",
              "      <td>United Arab Emirates</td>\n",
              "      <td>ARE</td>\n",
              "      <td>0</td>\n",
              "      <td>3</td>\n",
              "      <td>no</td>\n",
              "      <td>-0.779468</td>\n",
              "      <td>7.477915</td>\n",
              "      <td>7.477915</td>\n",
              "      <td>8.379367</td>\n",
              "      <td>7.494531</td>\n",
              "      <td>7.477915</td>\n",
              "      <td>5.693394</td>\n",
              "    </tr>\n",
              "  </tbody>\n",
              "</table>\n",
              "</div>\n",
              "      <button class=\"colab-df-convert\" onclick=\"convertToInteractive('df-32b77a76-36cf-406f-a205-73efac6300b6')\"\n",
              "              title=\"Convert this dataframe to an interactive table.\"\n",
              "              style=\"display:none;\">\n",
              "        \n",
              "  <svg xmlns=\"http://www.w3.org/2000/svg\" height=\"24px\"viewBox=\"0 0 24 24\"\n",
              "       width=\"24px\">\n",
              "    <path d=\"M0 0h24v24H0V0z\" fill=\"none\"/>\n",
              "    <path d=\"M18.56 5.44l.94 2.06.94-2.06 2.06-.94-2.06-.94-.94-2.06-.94 2.06-2.06.94zm-11 1L8.5 8.5l.94-2.06 2.06-.94-2.06-.94L8.5 2.5l-.94 2.06-2.06.94zm10 10l.94 2.06.94-2.06 2.06-.94-2.06-.94-.94-2.06-.94 2.06-2.06.94z\"/><path d=\"M17.41 7.96l-1.37-1.37c-.4-.4-.92-.59-1.43-.59-.52 0-1.04.2-1.43.59L10.3 9.45l-7.72 7.72c-.78.78-.78 2.05 0 2.83L4 21.41c.39.39.9.59 1.41.59.51 0 1.02-.2 1.41-.59l7.78-7.78 2.81-2.81c.8-.78.8-2.07 0-2.86zM5.41 20L4 18.59l7.72-7.72 1.47 1.35L5.41 20z\"/>\n",
              "  </svg>\n",
              "      </button>\n",
              "      \n",
              "  <style>\n",
              "    .colab-df-container {\n",
              "      display:flex;\n",
              "      flex-wrap:wrap;\n",
              "      gap: 12px;\n",
              "    }\n",
              "\n",
              "    .colab-df-convert {\n",
              "      background-color: #E8F0FE;\n",
              "      border: none;\n",
              "      border-radius: 50%;\n",
              "      cursor: pointer;\n",
              "      display: none;\n",
              "      fill: #1967D2;\n",
              "      height: 32px;\n",
              "      padding: 0 0 0 0;\n",
              "      width: 32px;\n",
              "    }\n",
              "\n",
              "    .colab-df-convert:hover {\n",
              "      background-color: #E2EBFA;\n",
              "      box-shadow: 0px 1px 2px rgba(60, 64, 67, 0.3), 0px 1px 3px 1px rgba(60, 64, 67, 0.15);\n",
              "      fill: #174EA6;\n",
              "    }\n",
              "\n",
              "    [theme=dark] .colab-df-convert {\n",
              "      background-color: #3B4455;\n",
              "      fill: #D2E3FC;\n",
              "    }\n",
              "\n",
              "    [theme=dark] .colab-df-convert:hover {\n",
              "      background-color: #434B5C;\n",
              "      box-shadow: 0px 1px 3px 1px rgba(0, 0, 0, 0.15);\n",
              "      filter: drop-shadow(0px 1px 2px rgba(0, 0, 0, 0.3));\n",
              "      fill: #FFFFFF;\n",
              "    }\n",
              "  </style>\n",
              "\n",
              "      <script>\n",
              "        const buttonEl =\n",
              "          document.querySelector('#df-32b77a76-36cf-406f-a205-73efac6300b6 button.colab-df-convert');\n",
              "        buttonEl.style.display =\n",
              "          google.colab.kernel.accessAllowed ? 'block' : 'none';\n",
              "\n",
              "        async function convertToInteractive(key) {\n",
              "          const element = document.querySelector('#df-32b77a76-36cf-406f-a205-73efac6300b6');\n",
              "          const dataTable =\n",
              "            await google.colab.kernel.invokeFunction('convertToInteractive',\n",
              "                                                     [key], {});\n",
              "          if (!dataTable) return;\n",
              "\n",
              "          const docLinkHtml = 'Like what you see? Visit the ' +\n",
              "            '<a target=\"_blank\" href=https://colab.research.google.com/notebooks/data_table.ipynb>data table notebook</a>'\n",
              "            + ' to learn more about interactive tables.';\n",
              "          element.innerHTML = '';\n",
              "          dataTable['output_type'] = 'display_data';\n",
              "          await google.colab.output.renderOutput(dataTable, element);\n",
              "          const docLink = document.createElement('div');\n",
              "          docLink.innerHTML = docLinkHtml;\n",
              "          element.appendChild(docLink);\n",
              "        }\n",
              "      </script>\n",
              "    </div>\n",
              "  </div>\n",
              "  "
            ]
          },
          "metadata": {},
          "execution_count": 62
        }
      ]
    },
    {
      "cell_type": "markdown",
      "source": [
        "Fitted values dos modelos POISSON, BNEG, ZIP e ZINB, considerando,\n",
        "para fins didáticos, a variável dependente 'violations' em função apenas da\n",
        "variável preditora 'staff'\n",
        "\n"
      ],
      "metadata": {
        "id": "e-Fhy37kakMV"
      }
    },
    {
      "cell_type": "code",
      "source": [
        "plt.figure(figsize=(20,10))\n",
        "sns.relplot(data=df_corruption, x='staff', y='violations',\n",
        "           color='black', height=8)\n",
        "sns.regplot(data=df_corruption, x='staff', y='fitted_poisson', order=3,\n",
        "            color='#440154FF',ci=False)\n",
        "sns.regplot(data=df_corruption, x='staff', y='fitted_bneg', order=3,\n",
        "            color='#22A884FF',ci=False)\n",
        "sns.regplot(data=df_corruption, x='staff', y='fitted_zip', order=3,\n",
        "            color='#453781FF',ci=False)\n",
        "sns.regplot(data=df_corruption, x='staff', y='fitted_zinb', order=3,\n",
        "            color='orange',ci=False)\n",
        "plt.xlabel('Number of Diplomats (staff)', fontsize=17)\n",
        "plt.ylabel('Unpaid Parking Violations (violations)', fontsize=17)\n",
        "plt.legend(['Observado', 'Poisson', 'Fit Poisson', 'CI Poisson',\n",
        "            'BNeg', 'Fit BNeg', 'CI BNeg',\n",
        "            'ZIP', 'Fit ZIP', 'CI ZIP',\n",
        "            'ZINB', 'Fit ZINB', 'CI ZINB'],\n",
        "           fontsize=14)\n",
        "plt.show"
      ],
      "metadata": {
        "colab": {
          "base_uri": "https://localhost:8080/",
          "height": 847
        },
        "id": "FPgq1HYRaome",
        "outputId": "035c28bb-651c-4d65-fc2f-2941e56042ba"
      },
      "execution_count": 69,
      "outputs": [
        {
          "output_type": "execute_result",
          "data": {
            "text/plain": [
              "<function matplotlib.pyplot.show(close=None, block=None)>"
            ]
          },
          "metadata": {},
          "execution_count": 69
        },
        {
          "output_type": "display_data",
          "data": {
            "text/plain": [
              "<Figure size 2000x1000 with 0 Axes>"
            ]
          },
          "metadata": {}
        },
        {
          "output_type": "display_data",
          "data": {
            "text/plain": [
              "<Figure size 800x800 with 1 Axes>"
            ],
            "image/png": "[encoded data removed]"
          },
          "metadata": {}
        }
      ]
    },
    {
      "cell_type": "markdown",
      "source": [
        "## Conclusão\n",
        "O modelo ZIMB apresentou o maior LL's portando foi o melhor modelo encontrado para representar a base de dados"
      ],
      "metadata": {
        "id": "RyyR0VyjhPeu"
      }
    }
  ]
}